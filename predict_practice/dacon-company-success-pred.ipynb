{
 "cells": [
  {
   "cell_type": "code",
   "execution_count": 1,
   "id": "abab8e8d",
   "metadata": {
    "_cell_guid": "b1076dfc-b9ad-4769-8c92-a6c4dae69d19",
    "_uuid": "8f2839f25d086af736a60e9eeb907d3b93b6e0e5",
    "execution": {
     "iopub.execute_input": "2025-04-30T01:41:26.242292Z",
     "iopub.status.busy": "2025-04-30T01:41:26.241933Z",
     "iopub.status.idle": "2025-04-30T01:41:28.239704Z",
     "shell.execute_reply": "2025-04-30T01:41:28.238395Z"
    },
    "papermill": {
     "duration": 2.005779,
     "end_time": "2025-04-30T01:41:28.241631",
     "exception": false,
     "start_time": "2025-04-30T01:41:26.235852",
     "status": "completed"
    },
    "tags": []
   },
   "outputs": [
    {
     "name": "stdout",
     "output_type": "stream",
     "text": [
      "/kaggle/input/dacon/sample_submission.csv\n",
      "/kaggle/input/dacon/train.csv\n",
      "/kaggle/input/dacon/test.csv\n"
     ]
    }
   ],
   "source": [
    "# This Python 3 environment comes with many helpful analytics libraries installed\n",
    "# It is defined by the kaggle/python Docker image: https://github.com/kaggle/docker-python\n",
    "# For example, here's several helpful packages to load\n",
    "\n",
    "import numpy as np # linear algebra\n",
    "import pandas as pd # data processing, CSV file I/O (e.g. pd.read_csv)\n",
    "\n",
    "# Input data files are available in the read-only \"../input/\" directory\n",
    "# For example, running this (by clicking run or pressing Shift+Enter) will list all files under the input directory\n",
    "\n",
    "import os\n",
    "for dirname, _, filenames in os.walk('/kaggle/input'):\n",
    "    for filename in filenames:\n",
    "        print(os.path.join(dirname, filename))\n",
    "\n",
    "# You can write up to 20GB to the current directory (/kaggle/working/) that gets preserved as output when you create a version using \"Save & Run All\" \n",
    "# You can also write temporary files to /kaggle/temp/, but they won't be saved outside of the current session"
   ]
  },
  {
   "cell_type": "code",
   "execution_count": 2,
   "id": "3b504449",
   "metadata": {
    "execution": {
     "iopub.execute_input": "2025-04-30T01:41:28.253197Z",
     "iopub.status.busy": "2025-04-30T01:41:28.252719Z",
     "iopub.status.idle": "2025-04-30T01:41:28.307009Z",
     "shell.execute_reply": "2025-04-30T01:41:28.305916Z"
    },
    "papermill": {
     "duration": 0.062117,
     "end_time": "2025-04-30T01:41:28.308853",
     "exception": false,
     "start_time": "2025-04-30T01:41:28.246736",
     "status": "completed"
    },
    "tags": []
   },
   "outputs": [],
   "source": [
    "train = pd.read_csv(\"/kaggle/input/dacon/train.csv\")\n",
    "test = pd.read_csv(\"/kaggle/input/dacon/test.csv\")"
   ]
  },
  {
   "cell_type": "code",
   "execution_count": 3,
   "id": "279f1ed9",
   "metadata": {
    "execution": {
     "iopub.execute_input": "2025-04-30T01:41:28.319367Z",
     "iopub.status.busy": "2025-04-30T01:41:28.318983Z",
     "iopub.status.idle": "2025-04-30T01:41:28.353706Z",
     "shell.execute_reply": "2025-04-30T01:41:28.352218Z"
    },
    "papermill": {
     "duration": 0.041802,
     "end_time": "2025-04-30T01:41:28.355424",
     "exception": false,
     "start_time": "2025-04-30T01:41:28.313622",
     "status": "completed"
    },
    "tags": []
   },
   "outputs": [
    {
     "name": "stdout",
     "output_type": "stream",
     "text": [
      "<class 'pandas.core.frame.DataFrame'>\n",
      "RangeIndex: 4376 entries, 0 to 4375\n",
      "Data columns (total 14 columns):\n",
      " #   Column          Non-Null Count  Dtype  \n",
      "---  ------          --------------  -----  \n",
      " 0   ID              4376 non-null   object \n",
      " 1   설립연도            4376 non-null   int64  \n",
      " 2   국가              4376 non-null   object \n",
      " 3   분야              3519 non-null   object \n",
      " 4   투자단계            4376 non-null   object \n",
      " 5   직원 수            4202 non-null   float64\n",
      " 6   인수여부            4376 non-null   object \n",
      " 7   상장여부            4376 non-null   object \n",
      " 8   고객수(백만명)        3056 non-null   float64\n",
      " 9   총 투자금(억원)       4376 non-null   float64\n",
      " 10  연매출(억원)         4376 non-null   float64\n",
      " 11  SNS 팔로워 수(백만명)  4376 non-null   float64\n",
      " 12  기업가치(백억원)       3156 non-null   object \n",
      " 13  성공확률            4376 non-null   float64\n",
      "dtypes: float64(6), int64(1), object(7)\n",
      "memory usage: 478.8+ KB\n"
     ]
    }
   ],
   "source": [
    "train.info()"
   ]
  },
  {
   "cell_type": "code",
   "execution_count": 4,
   "id": "f88e8dfc",
   "metadata": {
    "execution": {
     "iopub.execute_input": "2025-04-30T01:41:28.366461Z",
     "iopub.status.busy": "2025-04-30T01:41:28.366159Z",
     "iopub.status.idle": "2025-04-30T01:41:28.377944Z",
     "shell.execute_reply": "2025-04-30T01:41:28.376853Z"
    },
    "papermill": {
     "duration": 0.019745,
     "end_time": "2025-04-30T01:41:28.379581",
     "exception": false,
     "start_time": "2025-04-30T01:41:28.359836",
     "status": "completed"
    },
    "tags": []
   },
   "outputs": [
    {
     "name": "stdout",
     "output_type": "stream",
     "text": [
      "<class 'pandas.core.frame.DataFrame'>\n",
      "RangeIndex: 1755 entries, 0 to 1754\n",
      "Data columns (total 13 columns):\n",
      " #   Column          Non-Null Count  Dtype  \n",
      "---  ------          --------------  -----  \n",
      " 0   ID              1755 non-null   object \n",
      " 1   설립연도            1755 non-null   int64  \n",
      " 2   국가              1755 non-null   object \n",
      " 3   분야              1401 non-null   object \n",
      " 4   투자단계            1755 non-null   object \n",
      " 5   직원 수            1679 non-null   float64\n",
      " 6   인수여부            1755 non-null   object \n",
      " 7   상장여부            1755 non-null   object \n",
      " 8   고객수(백만명)        1208 non-null   float64\n",
      " 9   총 투자금(억원)       1755 non-null   float64\n",
      " 10  연매출(억원)         1755 non-null   float64\n",
      " 11  SNS 팔로워 수(백만명)  1755 non-null   float64\n",
      " 12  기업가치(백억원)       1268 non-null   object \n",
      "dtypes: float64(5), int64(1), object(7)\n",
      "memory usage: 178.4+ KB\n"
     ]
    }
   ],
   "source": [
    "test.info()"
   ]
  },
  {
   "cell_type": "code",
   "execution_count": 5,
   "id": "9c8780fb",
   "metadata": {
    "execution": {
     "iopub.execute_input": "2025-04-30T01:41:28.389732Z",
     "iopub.status.busy": "2025-04-30T01:41:28.389424Z",
     "iopub.status.idle": "2025-04-30T01:41:28.395099Z",
     "shell.execute_reply": "2025-04-30T01:41:28.394104Z"
    },
    "papermill": {
     "duration": 0.012497,
     "end_time": "2025-04-30T01:41:28.396568",
     "exception": false,
     "start_time": "2025-04-30T01:41:28.384071",
     "status": "completed"
    },
    "tags": []
   },
   "outputs": [
    {
     "name": "stdout",
     "output_type": "stream",
     "text": [
      "Index(['ID', '설립연도', '국가', '분야', '투자단계', '직원 수', '인수여부', '상장여부', '고객수(백만명)',\n",
      "       '총 투자금(억원)', '연매출(억원)', 'SNS 팔로워 수(백만명)', '기업가치(백억원)', '성공확률'],\n",
      "      dtype='object')\n",
      "Index(['ID', '설립연도', '국가', '분야', '투자단계', '직원 수', '인수여부', '상장여부', '고객수(백만명)',\n",
      "       '총 투자금(억원)', '연매출(억원)', 'SNS 팔로워 수(백만명)', '기업가치(백억원)'],\n",
      "      dtype='object')\n"
     ]
    }
   ],
   "source": [
    "print(train.columns)\n",
    "print(test.columns)"
   ]
  },
  {
   "cell_type": "code",
   "execution_count": 6,
   "id": "26c6dbf4",
   "metadata": {
    "execution": {
     "iopub.execute_input": "2025-04-30T01:41:28.406820Z",
     "iopub.status.busy": "2025-04-30T01:41:28.406204Z",
     "iopub.status.idle": "2025-04-30T01:41:28.410341Z",
     "shell.execute_reply": "2025-04-30T01:41:28.409519Z"
    },
    "papermill": {
     "duration": 0.010675,
     "end_time": "2025-04-30T01:41:28.411768",
     "exception": false,
     "start_time": "2025-04-30T01:41:28.401093",
     "status": "completed"
    },
    "tags": []
   },
   "outputs": [],
   "source": [
    "y_train = train['성공확률']"
   ]
  },
  {
   "cell_type": "code",
   "execution_count": 7,
   "id": "b2c6d8f0",
   "metadata": {
    "execution": {
     "iopub.execute_input": "2025-04-30T01:41:28.422152Z",
     "iopub.status.busy": "2025-04-30T01:41:28.421317Z",
     "iopub.status.idle": "2025-04-30T01:41:28.431553Z",
     "shell.execute_reply": "2025-04-30T01:41:28.430778Z"
    },
    "papermill": {
     "duration": 0.016871,
     "end_time": "2025-04-30T01:41:28.433127",
     "exception": false,
     "start_time": "2025-04-30T01:41:28.416256",
     "status": "completed"
    },
    "tags": []
   },
   "outputs": [
    {
     "data": {
      "text/plain": [
       "ID                   0\n",
       "설립연도                 0\n",
       "국가                   0\n",
       "분야                 857\n",
       "투자단계                 0\n",
       "직원 수               174\n",
       "인수여부                 0\n",
       "상장여부                 0\n",
       "고객수(백만명)          1320\n",
       "총 투자금(억원)            0\n",
       "연매출(억원)              0\n",
       "SNS 팔로워 수(백만명)       0\n",
       "기업가치(백억원)         1220\n",
       "성공확률                 0\n",
       "dtype: int64"
      ]
     },
     "execution_count": 7,
     "metadata": {},
     "output_type": "execute_result"
    }
   ],
   "source": [
    "train.isnull().sum()"
   ]
  },
  {
   "cell_type": "code",
   "execution_count": 8,
   "id": "9c6797f6",
   "metadata": {
    "execution": {
     "iopub.execute_input": "2025-04-30T01:41:28.444062Z",
     "iopub.status.busy": "2025-04-30T01:41:28.443534Z",
     "iopub.status.idle": "2025-04-30T01:41:28.452771Z",
     "shell.execute_reply": "2025-04-30T01:41:28.451563Z"
    },
    "papermill": {
     "duration": 0.016864,
     "end_time": "2025-04-30T01:41:28.454563",
     "exception": false,
     "start_time": "2025-04-30T01:41:28.437699",
     "status": "completed"
    },
    "tags": []
   },
   "outputs": [
    {
     "data": {
      "text/plain": [
       "ID                  0\n",
       "설립연도                0\n",
       "국가                  0\n",
       "분야                354\n",
       "투자단계                0\n",
       "직원 수               76\n",
       "인수여부                0\n",
       "상장여부                0\n",
       "고객수(백만명)          547\n",
       "총 투자금(억원)           0\n",
       "연매출(억원)             0\n",
       "SNS 팔로워 수(백만명)      0\n",
       "기업가치(백억원)         487\n",
       "dtype: int64"
      ]
     },
     "execution_count": 8,
     "metadata": {},
     "output_type": "execute_result"
    }
   ],
   "source": [
    "test.isnull().sum()"
   ]
  },
  {
   "cell_type": "code",
   "execution_count": 9,
   "id": "82c2f7c6",
   "metadata": {
    "execution": {
     "iopub.execute_input": "2025-04-30T01:41:28.465129Z",
     "iopub.status.busy": "2025-04-30T01:41:28.464771Z",
     "iopub.status.idle": "2025-04-30T01:41:28.475328Z",
     "shell.execute_reply": "2025-04-30T01:41:28.474314Z"
    },
    "papermill": {
     "duration": 0.017896,
     "end_time": "2025-04-30T01:41:28.477070",
     "exception": false,
     "start_time": "2025-04-30T01:41:28.459174",
     "status": "completed"
    },
    "tags": []
   },
   "outputs": [],
   "source": [
    "X_train = train.drop([\"ID\", \"성공확률\"], axis=1)\n",
    "X_test = test.drop([\"ID\"], axis=1)"
   ]
  },
  {
   "cell_type": "code",
   "execution_count": 10,
   "id": "9c758225",
   "metadata": {
    "execution": {
     "iopub.execute_input": "2025-04-30T01:41:28.487497Z",
     "iopub.status.busy": "2025-04-30T01:41:28.487210Z",
     "iopub.status.idle": "2025-04-30T01:41:28.517206Z",
     "shell.execute_reply": "2025-04-30T01:41:28.516190Z"
    },
    "papermill": {
     "duration": 0.03693,
     "end_time": "2025-04-30T01:41:28.518726",
     "exception": false,
     "start_time": "2025-04-30T01:41:28.481796",
     "status": "completed"
    },
    "tags": []
   },
   "outputs": [
    {
     "name": "stderr",
     "output_type": "stream",
     "text": [
      "/usr/local/lib/python3.11/dist-packages/pandas/io/formats/format.py:1458: RuntimeWarning: invalid value encountered in greater\n",
      "  has_large_values = (abs_vals > 1e6).any()\n",
      "/usr/local/lib/python3.11/dist-packages/pandas/io/formats/format.py:1459: RuntimeWarning: invalid value encountered in less\n",
      "  has_small_values = ((abs_vals < 10 ** (-self.digits)) & (abs_vals > 0)).any()\n",
      "/usr/local/lib/python3.11/dist-packages/pandas/io/formats/format.py:1459: RuntimeWarning: invalid value encountered in greater\n",
      "  has_small_values = ((abs_vals < 10 ** (-self.digits)) & (abs_vals > 0)).any()\n"
     ]
    },
    {
     "data": {
      "text/html": [
       "<div>\n",
       "<style scoped>\n",
       "    .dataframe tbody tr th:only-of-type {\n",
       "        vertical-align: middle;\n",
       "    }\n",
       "\n",
       "    .dataframe tbody tr th {\n",
       "        vertical-align: top;\n",
       "    }\n",
       "\n",
       "    .dataframe thead th {\n",
       "        text-align: right;\n",
       "    }\n",
       "</style>\n",
       "<table border=\"1\" class=\"dataframe\">\n",
       "  <thead>\n",
       "    <tr style=\"text-align: right;\">\n",
       "      <th></th>\n",
       "      <th>설립연도</th>\n",
       "      <th>국가</th>\n",
       "      <th>분야</th>\n",
       "      <th>투자단계</th>\n",
       "      <th>직원 수</th>\n",
       "      <th>인수여부</th>\n",
       "      <th>상장여부</th>\n",
       "      <th>고객수(백만명)</th>\n",
       "      <th>총 투자금(억원)</th>\n",
       "      <th>연매출(억원)</th>\n",
       "      <th>SNS 팔로워 수(백만명)</th>\n",
       "      <th>기업가치(백억원)</th>\n",
       "    </tr>\n",
       "  </thead>\n",
       "  <tbody>\n",
       "    <tr>\n",
       "      <th>0</th>\n",
       "      <td>2009</td>\n",
       "      <td>CT005</td>\n",
       "      <td>이커머스</td>\n",
       "      <td>Series A</td>\n",
       "      <td>4126.0</td>\n",
       "      <td>No</td>\n",
       "      <td>No</td>\n",
       "      <td>56.0</td>\n",
       "      <td>3365.0</td>\n",
       "      <td>4764.0</td>\n",
       "      <td>4.71</td>\n",
       "      <td>NaN</td>\n",
       "    </tr>\n",
       "    <tr>\n",
       "      <th>1</th>\n",
       "      <td>2023</td>\n",
       "      <td>CT006</td>\n",
       "      <td>핀테크</td>\n",
       "      <td>Seed</td>\n",
       "      <td>4167.0</td>\n",
       "      <td>Yes</td>\n",
       "      <td>No</td>\n",
       "      <td>80.0</td>\n",
       "      <td>4069.0</td>\n",
       "      <td>279.0</td>\n",
       "      <td>1.00</td>\n",
       "      <td>2500-3500</td>\n",
       "    </tr>\n",
       "    <tr>\n",
       "      <th>2</th>\n",
       "      <td>2018</td>\n",
       "      <td>CT007</td>\n",
       "      <td>기술</td>\n",
       "      <td>Series A</td>\n",
       "      <td>3132.0</td>\n",
       "      <td>Yes</td>\n",
       "      <td>Yes</td>\n",
       "      <td>54.0</td>\n",
       "      <td>6453.0</td>\n",
       "      <td>12141.0</td>\n",
       "      <td>4.00</td>\n",
       "      <td>3500-4500</td>\n",
       "    </tr>\n",
       "    <tr>\n",
       "      <th>3</th>\n",
       "      <td>2016</td>\n",
       "      <td>CT006</td>\n",
       "      <td>NaN</td>\n",
       "      <td>Seed</td>\n",
       "      <td>3245.0</td>\n",
       "      <td>Yes</td>\n",
       "      <td>Yes</td>\n",
       "      <td>NaN</td>\n",
       "      <td>665.0</td>\n",
       "      <td>10547.0</td>\n",
       "      <td>2.97</td>\n",
       "      <td>NaN</td>\n",
       "    </tr>\n",
       "    <tr>\n",
       "      <th>4</th>\n",
       "      <td>2020</td>\n",
       "      <td>CT002</td>\n",
       "      <td>에듀테크</td>\n",
       "      <td>Seed</td>\n",
       "      <td>1969.0</td>\n",
       "      <td>No</td>\n",
       "      <td>Yes</td>\n",
       "      <td>94.0</td>\n",
       "      <td>829.0</td>\n",
       "      <td>9810.0</td>\n",
       "      <td>1.00</td>\n",
       "      <td>1500-2500</td>\n",
       "    </tr>\n",
       "    <tr>\n",
       "      <th>...</th>\n",
       "      <td>...</td>\n",
       "      <td>...</td>\n",
       "      <td>...</td>\n",
       "      <td>...</td>\n",
       "      <td>...</td>\n",
       "      <td>...</td>\n",
       "      <td>...</td>\n",
       "      <td>...</td>\n",
       "      <td>...</td>\n",
       "      <td>...</td>\n",
       "      <td>...</td>\n",
       "      <td>...</td>\n",
       "    </tr>\n",
       "    <tr>\n",
       "      <th>4371</th>\n",
       "      <td>2021</td>\n",
       "      <td>CT006</td>\n",
       "      <td>푸드테크</td>\n",
       "      <td>Series A</td>\n",
       "      <td>4841.0</td>\n",
       "      <td>Yes</td>\n",
       "      <td>No</td>\n",
       "      <td>90.0</td>\n",
       "      <td>4187.0</td>\n",
       "      <td>9394.0</td>\n",
       "      <td>4.00</td>\n",
       "      <td>1500-2500</td>\n",
       "    </tr>\n",
       "    <tr>\n",
       "      <th>4372</th>\n",
       "      <td>2020</td>\n",
       "      <td>CT003</td>\n",
       "      <td>에너지</td>\n",
       "      <td>Series B</td>\n",
       "      <td>555.0</td>\n",
       "      <td>No</td>\n",
       "      <td>Yes</td>\n",
       "      <td>37.0</td>\n",
       "      <td>796.0</td>\n",
       "      <td>2969.0</td>\n",
       "      <td>3.00</td>\n",
       "      <td>6000이상</td>\n",
       "    </tr>\n",
       "    <tr>\n",
       "      <th>4373</th>\n",
       "      <td>2023</td>\n",
       "      <td>CT004</td>\n",
       "      <td>NaN</td>\n",
       "      <td>Series C</td>\n",
       "      <td>506.0</td>\n",
       "      <td>No</td>\n",
       "      <td>Yes</td>\n",
       "      <td>NaN</td>\n",
       "      <td>3314.0</td>\n",
       "      <td>4512.0</td>\n",
       "      <td>1.47</td>\n",
       "      <td>NaN</td>\n",
       "    </tr>\n",
       "    <tr>\n",
       "      <th>4374</th>\n",
       "      <td>2001</td>\n",
       "      <td>CT007</td>\n",
       "      <td>AI</td>\n",
       "      <td>IPO</td>\n",
       "      <td>1438.0</td>\n",
       "      <td>No</td>\n",
       "      <td>No</td>\n",
       "      <td>53.0</td>\n",
       "      <td>2395.0</td>\n",
       "      <td>3755.0</td>\n",
       "      <td>5.00</td>\n",
       "      <td>4500-6000</td>\n",
       "    </tr>\n",
       "    <tr>\n",
       "      <th>4375</th>\n",
       "      <td>2017</td>\n",
       "      <td>CT006</td>\n",
       "      <td>에듀테크</td>\n",
       "      <td>Seed</td>\n",
       "      <td>3499.0</td>\n",
       "      <td>No</td>\n",
       "      <td>Yes</td>\n",
       "      <td>41.0</td>\n",
       "      <td>903.0</td>\n",
       "      <td>9417.0</td>\n",
       "      <td>5.00</td>\n",
       "      <td>4500-6000</td>\n",
       "    </tr>\n",
       "  </tbody>\n",
       "</table>\n",
       "<p>4376 rows × 12 columns</p>\n",
       "</div>"
      ],
      "text/plain": [
       "      설립연도     국가    분야      투자단계    직원 수 인수여부 상장여부  고객수(백만명)  총 투자금(억원)  \\\n",
       "0     2009  CT005  이커머스  Series A  4126.0   No   No      56.0     3365.0   \n",
       "1     2023  CT006   핀테크      Seed  4167.0  Yes   No      80.0     4069.0   \n",
       "2     2018  CT007    기술  Series A  3132.0  Yes  Yes      54.0     6453.0   \n",
       "3     2016  CT006   NaN      Seed  3245.0  Yes  Yes       NaN      665.0   \n",
       "4     2020  CT002  에듀테크      Seed  1969.0   No  Yes      94.0      829.0   \n",
       "...    ...    ...   ...       ...     ...  ...  ...       ...        ...   \n",
       "4371  2021  CT006  푸드테크  Series A  4841.0  Yes   No      90.0     4187.0   \n",
       "4372  2020  CT003   에너지  Series B   555.0   No  Yes      37.0      796.0   \n",
       "4373  2023  CT004   NaN  Series C   506.0   No  Yes       NaN     3314.0   \n",
       "4374  2001  CT007    AI       IPO  1438.0   No   No      53.0     2395.0   \n",
       "4375  2017  CT006  에듀테크      Seed  3499.0   No  Yes      41.0      903.0   \n",
       "\n",
       "      연매출(억원)  SNS 팔로워 수(백만명)  기업가치(백억원)  \n",
       "0      4764.0            4.71        NaN  \n",
       "1       279.0            1.00  2500-3500  \n",
       "2     12141.0            4.00  3500-4500  \n",
       "3     10547.0            2.97        NaN  \n",
       "4      9810.0            1.00  1500-2500  \n",
       "...       ...             ...        ...  \n",
       "4371   9394.0            4.00  1500-2500  \n",
       "4372   2969.0            3.00     6000이상  \n",
       "4373   4512.0            1.47        NaN  \n",
       "4374   3755.0            5.00  4500-6000  \n",
       "4375   9417.0            5.00  4500-6000  \n",
       "\n",
       "[4376 rows x 12 columns]"
      ]
     },
     "execution_count": 10,
     "metadata": {},
     "output_type": "execute_result"
    }
   ],
   "source": [
    "X_train"
   ]
  },
  {
   "cell_type": "code",
   "execution_count": 11,
   "id": "fd20f0a9",
   "metadata": {
    "execution": {
     "iopub.execute_input": "2025-04-30T01:41:28.531369Z",
     "iopub.status.busy": "2025-04-30T01:41:28.530468Z",
     "iopub.status.idle": "2025-04-30T01:41:28.541498Z",
     "shell.execute_reply": "2025-04-30T01:41:28.540730Z"
    },
    "papermill": {
     "duration": 0.019248,
     "end_time": "2025-04-30T01:41:28.543109",
     "exception": false,
     "start_time": "2025-04-30T01:41:28.523861",
     "status": "completed"
    },
    "tags": []
   },
   "outputs": [],
   "source": [
    "# 2. 결측치 처리\n",
    "X_train['분야'] = X_train['분야'].fillna('Unknown')\n",
    "X_test['분야'] = X_test['분야'].fillna('Unknown')\n",
    "\n",
    "X_train['직원 수'] = X_train['직원 수'].fillna(X_train['직원 수'].mean())\n",
    "X_test['직원 수'] = X_test['직원 수'].fillna(X_train['직원 수'].mean())\n",
    "\n",
    "X_train['고객수(백만명)'] = X_train['고객수(백만명)'].fillna(X_train['고객수(백만명)'].mean())\n",
    "X_test['고객수(백만명)'] = X_test['고객수(백만명)'].fillna(X_train['고객수(백만명)'].mean())"
   ]
  },
  {
   "cell_type": "code",
   "execution_count": 12,
   "id": "f19a61db",
   "metadata": {
    "execution": {
     "iopub.execute_input": "2025-04-30T01:41:28.554471Z",
     "iopub.status.busy": "2025-04-30T01:41:28.554176Z",
     "iopub.status.idle": "2025-04-30T01:41:28.562316Z",
     "shell.execute_reply": "2025-04-30T01:41:28.561435Z"
    },
    "papermill": {
     "duration": 0.015686,
     "end_time": "2025-04-30T01:41:28.563823",
     "exception": false,
     "start_time": "2025-04-30T01:41:28.548137",
     "status": "completed"
    },
    "tags": []
   },
   "outputs": [],
   "source": [
    "value_map = {\n",
    "    '1500-2500': 2000,\n",
    "    '2500-3500': 3000,\n",
    "    '3500-4500': 4000,\n",
    "    '4500-6000': 5250,\n",
    "    '6000이상': 6500\n",
    "}\n",
    "\n",
    "\n",
    "X_train['기업가치(백억원)'] = X_train['기업가치(백억원)'].map(value_map)\n",
    "X_test['기업가치(백억원)'] = X_test['기업가치(백억원)'].map(value_map)"
   ]
  },
  {
   "cell_type": "code",
   "execution_count": 13,
   "id": "0f802ce5",
   "metadata": {
    "execution": {
     "iopub.execute_input": "2025-04-30T01:41:28.575663Z",
     "iopub.status.busy": "2025-04-30T01:41:28.575378Z",
     "iopub.status.idle": "2025-04-30T01:41:28.636409Z",
     "shell.execute_reply": "2025-04-30T01:41:28.635348Z"
    },
    "papermill": {
     "duration": 0.068866,
     "end_time": "2025-04-30T01:41:28.638126",
     "exception": false,
     "start_time": "2025-04-30T01:41:28.569260",
     "status": "completed"
    },
    "tags": []
   },
   "outputs": [],
   "source": [
    "# 2. 투자단계별 평균 계산\n",
    "기업가치_평균 = X_train.groupby('투자단계')['기업가치(백억원)'].mean()\n",
    "\n",
    "# 3. 결측값 보간 (get으로 예외 방지)\n",
    "X_train['기업가치(백억원)'] = X_train.apply(\n",
    "    lambda row: 기업가치_평균.get(row['투자단계'], np.nan) if pd.isna(row['기업가치(백억원)']) else row['기업가치(백억원)'], axis=1\n",
    ")\n",
    "X_test['기업가치(백억원)'] = X_test.apply(\n",
    "    lambda row: 기업가치_평균.get(row['투자단계'], np.nan) if pd.isna(row['기업가치(백억원)']) else row['기업가치(백억원)'], axis=1\n",
    ")"
   ]
  },
  {
   "cell_type": "code",
   "execution_count": 14,
   "id": "beefa72f",
   "metadata": {
    "execution": {
     "iopub.execute_input": "2025-04-30T01:41:28.650529Z",
     "iopub.status.busy": "2025-04-30T01:41:28.649784Z",
     "iopub.status.idle": "2025-04-30T01:41:28.660275Z",
     "shell.execute_reply": "2025-04-30T01:41:28.659324Z"
    },
    "papermill": {
     "duration": 0.017969,
     "end_time": "2025-04-30T01:41:28.661809",
     "exception": false,
     "start_time": "2025-04-30T01:41:28.643840",
     "status": "completed"
    },
    "tags": []
   },
   "outputs": [],
   "source": [
    "num_features = ['직원 수', '고객수(백만명)', '총 투자금(억원)', '연매출(억원)', 'SNS 팔로워 수(백만명)' ]\n",
    "cat_features = ['설립연도', '국가', '분야', '투자단계', '기업가치(백억원)']\n",
    "bool_features = ['인수여부', '상장여부']\n",
    "\n",
    "# 6. 불리언 값 처리\n",
    "bool_map = {'Yes': 1, 'No': 0}\n",
    "for col in bool_features:\n",
    "    X_train[col] = X_train[col].map(bool_map)\n",
    "    X_test[col] = X_test[col].map(bool_map)"
   ]
  },
  {
   "cell_type": "code",
   "execution_count": 15,
   "id": "fd036fa2",
   "metadata": {
    "execution": {
     "iopub.execute_input": "2025-04-30T01:41:28.672930Z",
     "iopub.status.busy": "2025-04-30T01:41:28.672596Z",
     "iopub.status.idle": "2025-04-30T01:41:30.900474Z",
     "shell.execute_reply": "2025-04-30T01:41:30.898937Z"
    },
    "papermill": {
     "duration": 2.23583,
     "end_time": "2025-04-30T01:41:30.902620",
     "exception": false,
     "start_time": "2025-04-30T01:41:28.666790",
     "status": "completed"
    },
    "tags": []
   },
   "outputs": [],
   "source": [
    "from sklearn.preprocessing import StandardScaler, OneHotEncoder\n",
    "from sklearn.compose import ColumnTransformer\n",
    "from sklearn.ensemble import RandomForestRegressor\n",
    "from sklearn.pipeline import Pipeline\n",
    "from sklearn.metrics import mean_squared_error\n",
    "from sklearn.model_selection import train_test_split"
   ]
  },
  {
   "cell_type": "code",
   "execution_count": 16,
   "id": "d3bb1cf4",
   "metadata": {
    "execution": {
     "iopub.execute_input": "2025-04-30T01:41:30.914062Z",
     "iopub.status.busy": "2025-04-30T01:41:30.913553Z",
     "iopub.status.idle": "2025-04-30T01:41:30.918601Z",
     "shell.execute_reply": "2025-04-30T01:41:30.917712Z"
    },
    "papermill": {
     "duration": 0.012539,
     "end_time": "2025-04-30T01:41:30.920142",
     "exception": false,
     "start_time": "2025-04-30T01:41:30.907603",
     "status": "completed"
    },
    "tags": []
   },
   "outputs": [],
   "source": [
    "# 7. 전처리기 설정\n",
    "preprocessor = ColumnTransformer(\n",
    "    transformers=[\n",
    "        ('num', StandardScaler(), num_features),\n",
    "        ('cat', OneHotEncoder(handle_unknown='ignore', sparse_output=False), cat_features)\n",
    "    ],\n",
    "    remainder='passthrough'  # 불리언형 그대로 전달\n",
    ")"
   ]
  },
  {
   "cell_type": "code",
   "execution_count": 17,
   "id": "2064548a",
   "metadata": {
    "execution": {
     "iopub.execute_input": "2025-04-30T01:41:30.932151Z",
     "iopub.status.busy": "2025-04-30T01:41:30.931325Z",
     "iopub.status.idle": "2025-04-30T01:41:30.935799Z",
     "shell.execute_reply": "2025-04-30T01:41:30.935079Z"
    },
    "papermill": {
     "duration": 0.011692,
     "end_time": "2025-04-30T01:41:30.937261",
     "exception": false,
     "start_time": "2025-04-30T01:41:30.925569",
     "status": "completed"
    },
    "tags": []
   },
   "outputs": [],
   "source": [
    "# 8. 모델 파이프라인 설정\n",
    "model = Pipeline(steps=[\n",
    "    ('preprocessor', preprocessor),\n",
    "    ('regressor', RandomForestRegressor(random_state=42))\n",
    "])"
   ]
  },
  {
   "cell_type": "code",
   "execution_count": 18,
   "id": "ccc1addf",
   "metadata": {
    "execution": {
     "iopub.execute_input": "2025-04-30T01:41:30.948425Z",
     "iopub.status.busy": "2025-04-30T01:41:30.948093Z",
     "iopub.status.idle": "2025-04-30T01:41:35.943782Z",
     "shell.execute_reply": "2025-04-30T01:41:35.942761Z"
    },
    "papermill": {
     "duration": 5.003127,
     "end_time": "2025-04-30T01:41:35.945372",
     "exception": false,
     "start_time": "2025-04-30T01:41:30.942245",
     "status": "completed"
    },
    "tags": []
   },
   "outputs": [
    {
     "data": {
      "text/html": [
       "<style>#sk-container-id-1 {color: black;background-color: white;}#sk-container-id-1 pre{padding: 0;}#sk-container-id-1 div.sk-toggleable {background-color: white;}#sk-container-id-1 label.sk-toggleable__label {cursor: pointer;display: block;width: 100%;margin-bottom: 0;padding: 0.3em;box-sizing: border-box;text-align: center;}#sk-container-id-1 label.sk-toggleable__label-arrow:before {content: \"▸\";float: left;margin-right: 0.25em;color: #696969;}#sk-container-id-1 label.sk-toggleable__label-arrow:hover:before {color: black;}#sk-container-id-1 div.sk-estimator:hover label.sk-toggleable__label-arrow:before {color: black;}#sk-container-id-1 div.sk-toggleable__content {max-height: 0;max-width: 0;overflow: hidden;text-align: left;background-color: #f0f8ff;}#sk-container-id-1 div.sk-toggleable__content pre {margin: 0.2em;color: black;border-radius: 0.25em;background-color: #f0f8ff;}#sk-container-id-1 input.sk-toggleable__control:checked~div.sk-toggleable__content {max-height: 200px;max-width: 100%;overflow: auto;}#sk-container-id-1 input.sk-toggleable__control:checked~label.sk-toggleable__label-arrow:before {content: \"▾\";}#sk-container-id-1 div.sk-estimator input.sk-toggleable__control:checked~label.sk-toggleable__label {background-color: #d4ebff;}#sk-container-id-1 div.sk-label input.sk-toggleable__control:checked~label.sk-toggleable__label {background-color: #d4ebff;}#sk-container-id-1 input.sk-hidden--visually {border: 0;clip: rect(1px 1px 1px 1px);clip: rect(1px, 1px, 1px, 1px);height: 1px;margin: -1px;overflow: hidden;padding: 0;position: absolute;width: 1px;}#sk-container-id-1 div.sk-estimator {font-family: monospace;background-color: #f0f8ff;border: 1px dotted black;border-radius: 0.25em;box-sizing: border-box;margin-bottom: 0.5em;}#sk-container-id-1 div.sk-estimator:hover {background-color: #d4ebff;}#sk-container-id-1 div.sk-parallel-item::after {content: \"\";width: 100%;border-bottom: 1px solid gray;flex-grow: 1;}#sk-container-id-1 div.sk-label:hover label.sk-toggleable__label {background-color: #d4ebff;}#sk-container-id-1 div.sk-serial::before {content: \"\";position: absolute;border-left: 1px solid gray;box-sizing: border-box;top: 0;bottom: 0;left: 50%;z-index: 0;}#sk-container-id-1 div.sk-serial {display: flex;flex-direction: column;align-items: center;background-color: white;padding-right: 0.2em;padding-left: 0.2em;position: relative;}#sk-container-id-1 div.sk-item {position: relative;z-index: 1;}#sk-container-id-1 div.sk-parallel {display: flex;align-items: stretch;justify-content: center;background-color: white;position: relative;}#sk-container-id-1 div.sk-item::before, #sk-container-id-1 div.sk-parallel-item::before {content: \"\";position: absolute;border-left: 1px solid gray;box-sizing: border-box;top: 0;bottom: 0;left: 50%;z-index: -1;}#sk-container-id-1 div.sk-parallel-item {display: flex;flex-direction: column;z-index: 1;position: relative;background-color: white;}#sk-container-id-1 div.sk-parallel-item:first-child::after {align-self: flex-end;width: 50%;}#sk-container-id-1 div.sk-parallel-item:last-child::after {align-self: flex-start;width: 50%;}#sk-container-id-1 div.sk-parallel-item:only-child::after {width: 0;}#sk-container-id-1 div.sk-dashed-wrapped {border: 1px dashed gray;margin: 0 0.4em 0.5em 0.4em;box-sizing: border-box;padding-bottom: 0.4em;background-color: white;}#sk-container-id-1 div.sk-label label {font-family: monospace;font-weight: bold;display: inline-block;line-height: 1.2em;}#sk-container-id-1 div.sk-label-container {text-align: center;}#sk-container-id-1 div.sk-container {/* jupyter's `normalize.less` sets `[hidden] { display: none; }` but bootstrap.min.css set `[hidden] { display: none !important; }` so we also need the `!important` here to be able to override the default hidden behavior on the sphinx rendered scikit-learn.org. See: https://github.com/scikit-learn/scikit-learn/issues/21755 */display: inline-block !important;position: relative;}#sk-container-id-1 div.sk-text-repr-fallback {display: none;}</style><div id=\"sk-container-id-1\" class=\"sk-top-container\"><div class=\"sk-text-repr-fallback\"><pre>Pipeline(steps=[(&#x27;preprocessor&#x27;,\n",
       "                 ColumnTransformer(remainder=&#x27;passthrough&#x27;,\n",
       "                                   transformers=[(&#x27;num&#x27;, StandardScaler(),\n",
       "                                                  [&#x27;직원 수&#x27;, &#x27;고객수(백만명)&#x27;,\n",
       "                                                   &#x27;총 투자금(억원)&#x27;, &#x27;연매출(억원)&#x27;,\n",
       "                                                   &#x27;SNS 팔로워 수(백만명)&#x27;]),\n",
       "                                                 (&#x27;cat&#x27;,\n",
       "                                                  OneHotEncoder(handle_unknown=&#x27;ignore&#x27;,\n",
       "                                                                sparse_output=False),\n",
       "                                                  [&#x27;설립연도&#x27;, &#x27;국가&#x27;, &#x27;분야&#x27;, &#x27;투자단계&#x27;,\n",
       "                                                   &#x27;기업가치(백억원)&#x27;])])),\n",
       "                (&#x27;regressor&#x27;, RandomForestRegressor(random_state=42))])</pre><b>In a Jupyter environment, please rerun this cell to show the HTML representation or trust the notebook. <br />On GitHub, the HTML representation is unable to render, please try loading this page with nbviewer.org.</b></div><div class=\"sk-container\" hidden><div class=\"sk-item sk-dashed-wrapped\"><div class=\"sk-label-container\"><div class=\"sk-label sk-toggleable\"><input class=\"sk-toggleable__control sk-hidden--visually\" id=\"sk-estimator-id-1\" type=\"checkbox\" ><label for=\"sk-estimator-id-1\" class=\"sk-toggleable__label sk-toggleable__label-arrow\">Pipeline</label><div class=\"sk-toggleable__content\"><pre>Pipeline(steps=[(&#x27;preprocessor&#x27;,\n",
       "                 ColumnTransformer(remainder=&#x27;passthrough&#x27;,\n",
       "                                   transformers=[(&#x27;num&#x27;, StandardScaler(),\n",
       "                                                  [&#x27;직원 수&#x27;, &#x27;고객수(백만명)&#x27;,\n",
       "                                                   &#x27;총 투자금(억원)&#x27;, &#x27;연매출(억원)&#x27;,\n",
       "                                                   &#x27;SNS 팔로워 수(백만명)&#x27;]),\n",
       "                                                 (&#x27;cat&#x27;,\n",
       "                                                  OneHotEncoder(handle_unknown=&#x27;ignore&#x27;,\n",
       "                                                                sparse_output=False),\n",
       "                                                  [&#x27;설립연도&#x27;, &#x27;국가&#x27;, &#x27;분야&#x27;, &#x27;투자단계&#x27;,\n",
       "                                                   &#x27;기업가치(백억원)&#x27;])])),\n",
       "                (&#x27;regressor&#x27;, RandomForestRegressor(random_state=42))])</pre></div></div></div><div class=\"sk-serial\"><div class=\"sk-item sk-dashed-wrapped\"><div class=\"sk-label-container\"><div class=\"sk-label sk-toggleable\"><input class=\"sk-toggleable__control sk-hidden--visually\" id=\"sk-estimator-id-2\" type=\"checkbox\" ><label for=\"sk-estimator-id-2\" class=\"sk-toggleable__label sk-toggleable__label-arrow\">preprocessor: ColumnTransformer</label><div class=\"sk-toggleable__content\"><pre>ColumnTransformer(remainder=&#x27;passthrough&#x27;,\n",
       "                  transformers=[(&#x27;num&#x27;, StandardScaler(),\n",
       "                                 [&#x27;직원 수&#x27;, &#x27;고객수(백만명)&#x27;, &#x27;총 투자금(억원)&#x27;, &#x27;연매출(억원)&#x27;,\n",
       "                                  &#x27;SNS 팔로워 수(백만명)&#x27;]),\n",
       "                                (&#x27;cat&#x27;,\n",
       "                                 OneHotEncoder(handle_unknown=&#x27;ignore&#x27;,\n",
       "                                               sparse_output=False),\n",
       "                                 [&#x27;설립연도&#x27;, &#x27;국가&#x27;, &#x27;분야&#x27;, &#x27;투자단계&#x27;, &#x27;기업가치(백억원)&#x27;])])</pre></div></div></div><div class=\"sk-parallel\"><div class=\"sk-parallel-item\"><div class=\"sk-item\"><div class=\"sk-label-container\"><div class=\"sk-label sk-toggleable\"><input class=\"sk-toggleable__control sk-hidden--visually\" id=\"sk-estimator-id-3\" type=\"checkbox\" ><label for=\"sk-estimator-id-3\" class=\"sk-toggleable__label sk-toggleable__label-arrow\">num</label><div class=\"sk-toggleable__content\"><pre>[&#x27;직원 수&#x27;, &#x27;고객수(백만명)&#x27;, &#x27;총 투자금(억원)&#x27;, &#x27;연매출(억원)&#x27;, &#x27;SNS 팔로워 수(백만명)&#x27;]</pre></div></div></div><div class=\"sk-serial\"><div class=\"sk-item\"><div class=\"sk-estimator sk-toggleable\"><input class=\"sk-toggleable__control sk-hidden--visually\" id=\"sk-estimator-id-4\" type=\"checkbox\" ><label for=\"sk-estimator-id-4\" class=\"sk-toggleable__label sk-toggleable__label-arrow\">StandardScaler</label><div class=\"sk-toggleable__content\"><pre>StandardScaler()</pre></div></div></div></div></div></div><div class=\"sk-parallel-item\"><div class=\"sk-item\"><div class=\"sk-label-container\"><div class=\"sk-label sk-toggleable\"><input class=\"sk-toggleable__control sk-hidden--visually\" id=\"sk-estimator-id-5\" type=\"checkbox\" ><label for=\"sk-estimator-id-5\" class=\"sk-toggleable__label sk-toggleable__label-arrow\">cat</label><div class=\"sk-toggleable__content\"><pre>[&#x27;설립연도&#x27;, &#x27;국가&#x27;, &#x27;분야&#x27;, &#x27;투자단계&#x27;, &#x27;기업가치(백억원)&#x27;]</pre></div></div></div><div class=\"sk-serial\"><div class=\"sk-item\"><div class=\"sk-estimator sk-toggleable\"><input class=\"sk-toggleable__control sk-hidden--visually\" id=\"sk-estimator-id-6\" type=\"checkbox\" ><label for=\"sk-estimator-id-6\" class=\"sk-toggleable__label sk-toggleable__label-arrow\">OneHotEncoder</label><div class=\"sk-toggleable__content\"><pre>OneHotEncoder(handle_unknown=&#x27;ignore&#x27;, sparse_output=False)</pre></div></div></div></div></div></div><div class=\"sk-parallel-item\"><div class=\"sk-item\"><div class=\"sk-label-container\"><div class=\"sk-label sk-toggleable\"><input class=\"sk-toggleable__control sk-hidden--visually\" id=\"sk-estimator-id-7\" type=\"checkbox\" ><label for=\"sk-estimator-id-7\" class=\"sk-toggleable__label sk-toggleable__label-arrow\">remainder</label><div class=\"sk-toggleable__content\"><pre>[&#x27;인수여부&#x27;, &#x27;상장여부&#x27;]</pre></div></div></div><div class=\"sk-serial\"><div class=\"sk-item\"><div class=\"sk-estimator sk-toggleable\"><input class=\"sk-toggleable__control sk-hidden--visually\" id=\"sk-estimator-id-8\" type=\"checkbox\" ><label for=\"sk-estimator-id-8\" class=\"sk-toggleable__label sk-toggleable__label-arrow\">passthrough</label><div class=\"sk-toggleable__content\"><pre>passthrough</pre></div></div></div></div></div></div></div></div><div class=\"sk-item\"><div class=\"sk-estimator sk-toggleable\"><input class=\"sk-toggleable__control sk-hidden--visually\" id=\"sk-estimator-id-9\" type=\"checkbox\" ><label for=\"sk-estimator-id-9\" class=\"sk-toggleable__label sk-toggleable__label-arrow\">RandomForestRegressor</label><div class=\"sk-toggleable__content\"><pre>RandomForestRegressor(random_state=42)</pre></div></div></div></div></div></div></div>"
      ],
      "text/plain": [
       "Pipeline(steps=[('preprocessor',\n",
       "                 ColumnTransformer(remainder='passthrough',\n",
       "                                   transformers=[('num', StandardScaler(),\n",
       "                                                  ['직원 수', '고객수(백만명)',\n",
       "                                                   '총 투자금(억원)', '연매출(억원)',\n",
       "                                                   'SNS 팔로워 수(백만명)']),\n",
       "                                                 ('cat',\n",
       "                                                  OneHotEncoder(handle_unknown='ignore',\n",
       "                                                                sparse_output=False),\n",
       "                                                  ['설립연도', '국가', '분야', '투자단계',\n",
       "                                                   '기업가치(백억원)'])])),\n",
       "                ('regressor', RandomForestRegressor(random_state=42))])"
      ]
     },
     "execution_count": 18,
     "metadata": {},
     "output_type": "execute_result"
    }
   ],
   "source": [
    "model.fit(X_train, y_train)"
   ]
  },
  {
   "cell_type": "code",
   "execution_count": 19,
   "id": "b8ab3f98",
   "metadata": {
    "execution": {
     "iopub.execute_input": "2025-04-30T01:41:35.957447Z",
     "iopub.status.busy": "2025-04-30T01:41:35.956744Z",
     "iopub.status.idle": "2025-04-30T01:41:36.014295Z",
     "shell.execute_reply": "2025-04-30T01:41:36.013274Z"
    },
    "papermill": {
     "duration": 0.065298,
     "end_time": "2025-04-30T01:41:36.016083",
     "exception": false,
     "start_time": "2025-04-30T01:41:35.950785",
     "status": "completed"
    },
    "tags": []
   },
   "outputs": [],
   "source": [
    "y_pred = model.predict(X_test)"
   ]
  },
  {
   "cell_type": "markdown",
   "id": "b0cd915f",
   "metadata": {
    "papermill": {
     "duration": 0.004819,
     "end_time": "2025-04-30T01:41:36.026106",
     "exception": false,
     "start_time": "2025-04-30T01:41:36.021287",
     "status": "completed"
    },
    "tags": []
   },
   "source": []
  },
  {
   "cell_type": "code",
   "execution_count": 20,
   "id": "c7e45fda",
   "metadata": {
    "execution": {
     "iopub.execute_input": "2025-04-30T01:41:36.037920Z",
     "iopub.status.busy": "2025-04-30T01:41:36.036983Z",
     "iopub.status.idle": "2025-04-30T01:41:36.042130Z",
     "shell.execute_reply": "2025-04-30T01:41:36.041101Z"
    },
    "papermill": {
     "duration": 0.012597,
     "end_time": "2025-04-30T01:41:36.043646",
     "exception": false,
     "start_time": "2025-04-30T01:41:36.031049",
     "status": "completed"
    },
    "tags": []
   },
   "outputs": [],
   "source": [
    "# 예측 결과를 DataFrame으로 저장 (예시: 제출 파일 만들기)\n",
    "submission4 = pd.DataFrame({'ID': test['ID'], '성공확률': y_pred })"
   ]
  },
  {
   "cell_type": "code",
   "execution_count": 21,
   "id": "279beebb",
   "metadata": {
    "execution": {
     "iopub.execute_input": "2025-04-30T01:41:36.055785Z",
     "iopub.status.busy": "2025-04-30T01:41:36.055490Z",
     "iopub.status.idle": "2025-04-30T01:41:36.066706Z",
     "shell.execute_reply": "2025-04-30T01:41:36.065557Z"
    },
    "papermill": {
     "duration": 0.019355,
     "end_time": "2025-04-30T01:41:36.068283",
     "exception": false,
     "start_time": "2025-04-30T01:41:36.048928",
     "status": "completed"
    },
    "tags": []
   },
   "outputs": [
    {
     "data": {
      "text/html": [
       "<div>\n",
       "<style scoped>\n",
       "    .dataframe tbody tr th:only-of-type {\n",
       "        vertical-align: middle;\n",
       "    }\n",
       "\n",
       "    .dataframe tbody tr th {\n",
       "        vertical-align: top;\n",
       "    }\n",
       "\n",
       "    .dataframe thead th {\n",
       "        text-align: right;\n",
       "    }\n",
       "</style>\n",
       "<table border=\"1\" class=\"dataframe\">\n",
       "  <thead>\n",
       "    <tr style=\"text-align: right;\">\n",
       "      <th></th>\n",
       "      <th>ID</th>\n",
       "      <th>성공확률</th>\n",
       "    </tr>\n",
       "  </thead>\n",
       "  <tbody>\n",
       "    <tr>\n",
       "      <th>0</th>\n",
       "      <td>TEST_0000</td>\n",
       "      <td>0.574</td>\n",
       "    </tr>\n",
       "    <tr>\n",
       "      <th>1</th>\n",
       "      <td>TEST_0001</td>\n",
       "      <td>0.495</td>\n",
       "    </tr>\n",
       "    <tr>\n",
       "      <th>2</th>\n",
       "      <td>TEST_0002</td>\n",
       "      <td>0.469</td>\n",
       "    </tr>\n",
       "    <tr>\n",
       "      <th>3</th>\n",
       "      <td>TEST_0003</td>\n",
       "      <td>0.509</td>\n",
       "    </tr>\n",
       "    <tr>\n",
       "      <th>4</th>\n",
       "      <td>TEST_0004</td>\n",
       "      <td>0.586</td>\n",
       "    </tr>\n",
       "    <tr>\n",
       "      <th>...</th>\n",
       "      <td>...</td>\n",
       "      <td>...</td>\n",
       "    </tr>\n",
       "    <tr>\n",
       "      <th>1750</th>\n",
       "      <td>TEST_1750</td>\n",
       "      <td>0.475</td>\n",
       "    </tr>\n",
       "    <tr>\n",
       "      <th>1751</th>\n",
       "      <td>TEST_1751</td>\n",
       "      <td>0.619</td>\n",
       "    </tr>\n",
       "    <tr>\n",
       "      <th>1752</th>\n",
       "      <td>TEST_1752</td>\n",
       "      <td>0.558</td>\n",
       "    </tr>\n",
       "    <tr>\n",
       "      <th>1753</th>\n",
       "      <td>TEST_1753</td>\n",
       "      <td>0.531</td>\n",
       "    </tr>\n",
       "    <tr>\n",
       "      <th>1754</th>\n",
       "      <td>TEST_1754</td>\n",
       "      <td>0.506</td>\n",
       "    </tr>\n",
       "  </tbody>\n",
       "</table>\n",
       "<p>1755 rows × 2 columns</p>\n",
       "</div>"
      ],
      "text/plain": [
       "             ID   성공확률\n",
       "0     TEST_0000  0.574\n",
       "1     TEST_0001  0.495\n",
       "2     TEST_0002  0.469\n",
       "3     TEST_0003  0.509\n",
       "4     TEST_0004  0.586\n",
       "...         ...    ...\n",
       "1750  TEST_1750  0.475\n",
       "1751  TEST_1751  0.619\n",
       "1752  TEST_1752  0.558\n",
       "1753  TEST_1753  0.531\n",
       "1754  TEST_1754  0.506\n",
       "\n",
       "[1755 rows x 2 columns]"
      ]
     },
     "execution_count": 21,
     "metadata": {},
     "output_type": "execute_result"
    }
   ],
   "source": [
    "submission4"
   ]
  }
 ],
 "metadata": {
  "kaggle": {
   "accelerator": "none",
   "dataSources": [
    {
     "datasetId": 7272231,
     "sourceId": 11596490,
     "sourceType": "datasetVersion"
    }
   ],
   "dockerImageVersionId": 31012,
   "isGpuEnabled": false,
   "isInternetEnabled": true,
   "language": "python",
   "sourceType": "notebook"
  },
  "kernelspec": {
   "display_name": "Python 3",
   "language": "python",
   "name": "python3"
  },
  "language_info": {
   "codemirror_mode": {
    "name": "ipython",
    "version": 3
   },
   "file_extension": ".py",
   "mimetype": "text/x-python",
   "name": "python",
   "nbconvert_exporter": "python",
   "pygments_lexer": "ipython3",
   "version": "3.11.11"
  },
  "papermill": {
   "default_parameters": {},
   "duration": 15.541793,
   "end_time": "2025-04-30T01:41:36.794464",
   "environment_variables": {},
   "exception": null,
   "input_path": "__notebook__.ipynb",
   "output_path": "__notebook__.ipynb",
   "parameters": {},
   "start_time": "2025-04-30T01:41:21.252671",
   "version": "2.6.0"
  }
 },
 "nbformat": 4,
 "nbformat_minor": 5
}
