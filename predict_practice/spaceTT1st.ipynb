{
 "cells": [
  {
   "cell_type": "code",
   "execution_count": 1,
   "id": "67af4822",
   "metadata": {
    "_cell_guid": "b1076dfc-b9ad-4769-8c92-a6c4dae69d19",
    "_uuid": "8f2839f25d086af736a60e9eeb907d3b93b6e0e5",
    "execution": {
     "iopub.execute_input": "2025-05-01T07:33:44.552731Z",
     "iopub.status.busy": "2025-05-01T07:33:44.551967Z",
     "iopub.status.idle": "2025-05-01T07:33:46.460736Z",
     "shell.execute_reply": "2025-05-01T07:33:46.459769Z"
    },
    "papermill": {
     "duration": 1.91657,
     "end_time": "2025-05-01T07:33:46.462462",
     "exception": false,
     "start_time": "2025-05-01T07:33:44.545892",
     "status": "completed"
    },
    "tags": []
   },
   "outputs": [
    {
     "name": "stdout",
     "output_type": "stream",
     "text": [
      "/kaggle/input/spaceship-titanic/sample_submission.csv\n",
      "/kaggle/input/spaceship-titanic/train.csv\n",
      "/kaggle/input/spaceship-titanic/test.csv\n"
     ]
    }
   ],
   "source": [
    "# This Python 3 environment comes with many helpful analytics libraries installed\n",
    "# It is defined by the kaggle/python Docker image: https://github.com/kaggle/docker-python\n",
    "# For example, here's several helpful packages to load\n",
    "\n",
    "import numpy as np # linear algebra\n",
    "import pandas as pd # data processing, CSV file I/O (e.g. pd.read_csv)\n",
    "\n",
    "# Input data files are available in the read-only \"../input/\" directory\n",
    "# For example, running this (by clicking run or pressing Shift+Enter) will list all files under the input directory\n",
    "\n",
    "import os\n",
    "for dirname, _, filenames in os.walk('/kaggle/input'):\n",
    "    for filename in filenames:\n",
    "        print(os.path.join(dirname, filename))\n",
    "\n",
    "# You can write up to 20GB to the current directory (/kaggle/working/) that gets preserved as output when you create a version using \"Save & Run All\" \n",
    "# You can also write temporary files to /kaggle/temp/, but they won't be saved outside of the current session"
   ]
  },
  {
   "cell_type": "code",
   "execution_count": 2,
   "id": "54745e85",
   "metadata": {
    "execution": {
     "iopub.execute_input": "2025-05-01T07:33:46.471938Z",
     "iopub.status.busy": "2025-05-01T07:33:46.471563Z",
     "iopub.status.idle": "2025-05-01T07:33:48.637147Z",
     "shell.execute_reply": "2025-05-01T07:33:48.636271Z"
    },
    "papermill": {
     "duration": 2.172084,
     "end_time": "2025-05-01T07:33:48.638858",
     "exception": false,
     "start_time": "2025-05-01T07:33:46.466774",
     "status": "completed"
    },
    "tags": []
   },
   "outputs": [],
   "source": [
    "import pandas as pd\n",
    "from sklearn.model_selection import train_test_split\n",
    "from sklearn.ensemble import RandomForestClassifier\n",
    "from sklearn.metrics import accuracy_score\n",
    "from sklearn.preprocessing import LabelEncoder"
   ]
  },
  {
   "cell_type": "code",
   "execution_count": 3,
   "id": "a9ec9728",
   "metadata": {
    "execution": {
     "iopub.execute_input": "2025-05-01T07:33:48.648106Z",
     "iopub.status.busy": "2025-05-01T07:33:48.647685Z",
     "iopub.status.idle": "2025-05-01T07:33:48.740481Z",
     "shell.execute_reply": "2025-05-01T07:33:48.739649Z"
    },
    "papermill": {
     "duration": 0.098973,
     "end_time": "2025-05-01T07:33:48.742023",
     "exception": false,
     "start_time": "2025-05-01T07:33:48.643050",
     "status": "completed"
    },
    "tags": []
   },
   "outputs": [],
   "source": [
    "train = pd.read_csv(\"/kaggle/input/spaceship-titanic/train.csv\")\n",
    "test = pd.read_csv(\"/kaggle/input/spaceship-titanic/test.csv\")\n",
    "submission = pd.read_csv(\"/kaggle/input/spaceship-titanic/sample_submission.csv\")"
   ]
  },
  {
   "cell_type": "code",
   "execution_count": 4,
   "id": "1ee2a625",
   "metadata": {
    "execution": {
     "iopub.execute_input": "2025-05-01T07:33:48.750810Z",
     "iopub.status.busy": "2025-05-01T07:33:48.750523Z",
     "iopub.status.idle": "2025-05-01T07:33:48.790617Z",
     "shell.execute_reply": "2025-05-01T07:33:48.789763Z"
    },
    "papermill": {
     "duration": 0.046238,
     "end_time": "2025-05-01T07:33:48.792085",
     "exception": false,
     "start_time": "2025-05-01T07:33:48.745847",
     "status": "completed"
    },
    "tags": []
   },
   "outputs": [
    {
     "data": {
      "text/html": [
       "<div>\n",
       "<style scoped>\n",
       "    .dataframe tbody tr th:only-of-type {\n",
       "        vertical-align: middle;\n",
       "    }\n",
       "\n",
       "    .dataframe tbody tr th {\n",
       "        vertical-align: top;\n",
       "    }\n",
       "\n",
       "    .dataframe thead th {\n",
       "        text-align: right;\n",
       "    }\n",
       "</style>\n",
       "<table border=\"1\" class=\"dataframe\">\n",
       "  <thead>\n",
       "    <tr style=\"text-align: right;\">\n",
       "      <th></th>\n",
       "      <th>PassengerId</th>\n",
       "      <th>HomePlanet</th>\n",
       "      <th>CryoSleep</th>\n",
       "      <th>Cabin</th>\n",
       "      <th>Destination</th>\n",
       "      <th>Age</th>\n",
       "      <th>VIP</th>\n",
       "      <th>RoomService</th>\n",
       "      <th>FoodCourt</th>\n",
       "      <th>ShoppingMall</th>\n",
       "      <th>Spa</th>\n",
       "      <th>VRDeck</th>\n",
       "      <th>Name</th>\n",
       "      <th>Transported</th>\n",
       "    </tr>\n",
       "  </thead>\n",
       "  <tbody>\n",
       "    <tr>\n",
       "      <th>0</th>\n",
       "      <td>0001_01</td>\n",
       "      <td>Europa</td>\n",
       "      <td>False</td>\n",
       "      <td>B/0/P</td>\n",
       "      <td>TRAPPIST-1e</td>\n",
       "      <td>39.0</td>\n",
       "      <td>False</td>\n",
       "      <td>0.0</td>\n",
       "      <td>0.0</td>\n",
       "      <td>0.0</td>\n",
       "      <td>0.0</td>\n",
       "      <td>0.0</td>\n",
       "      <td>Maham Ofracculy</td>\n",
       "      <td>False</td>\n",
       "    </tr>\n",
       "    <tr>\n",
       "      <th>1</th>\n",
       "      <td>0002_01</td>\n",
       "      <td>Earth</td>\n",
       "      <td>False</td>\n",
       "      <td>F/0/S</td>\n",
       "      <td>TRAPPIST-1e</td>\n",
       "      <td>24.0</td>\n",
       "      <td>False</td>\n",
       "      <td>109.0</td>\n",
       "      <td>9.0</td>\n",
       "      <td>25.0</td>\n",
       "      <td>549.0</td>\n",
       "      <td>44.0</td>\n",
       "      <td>Juanna Vines</td>\n",
       "      <td>True</td>\n",
       "    </tr>\n",
       "    <tr>\n",
       "      <th>2</th>\n",
       "      <td>0003_01</td>\n",
       "      <td>Europa</td>\n",
       "      <td>False</td>\n",
       "      <td>A/0/S</td>\n",
       "      <td>TRAPPIST-1e</td>\n",
       "      <td>58.0</td>\n",
       "      <td>True</td>\n",
       "      <td>43.0</td>\n",
       "      <td>3576.0</td>\n",
       "      <td>0.0</td>\n",
       "      <td>6715.0</td>\n",
       "      <td>49.0</td>\n",
       "      <td>Altark Susent</td>\n",
       "      <td>False</td>\n",
       "    </tr>\n",
       "    <tr>\n",
       "      <th>3</th>\n",
       "      <td>0003_02</td>\n",
       "      <td>Europa</td>\n",
       "      <td>False</td>\n",
       "      <td>A/0/S</td>\n",
       "      <td>TRAPPIST-1e</td>\n",
       "      <td>33.0</td>\n",
       "      <td>False</td>\n",
       "      <td>0.0</td>\n",
       "      <td>1283.0</td>\n",
       "      <td>371.0</td>\n",
       "      <td>3329.0</td>\n",
       "      <td>193.0</td>\n",
       "      <td>Solam Susent</td>\n",
       "      <td>False</td>\n",
       "    </tr>\n",
       "    <tr>\n",
       "      <th>4</th>\n",
       "      <td>0004_01</td>\n",
       "      <td>Earth</td>\n",
       "      <td>False</td>\n",
       "      <td>F/1/S</td>\n",
       "      <td>TRAPPIST-1e</td>\n",
       "      <td>16.0</td>\n",
       "      <td>False</td>\n",
       "      <td>303.0</td>\n",
       "      <td>70.0</td>\n",
       "      <td>151.0</td>\n",
       "      <td>565.0</td>\n",
       "      <td>2.0</td>\n",
       "      <td>Willy Santantines</td>\n",
       "      <td>True</td>\n",
       "    </tr>\n",
       "    <tr>\n",
       "      <th>...</th>\n",
       "      <td>...</td>\n",
       "      <td>...</td>\n",
       "      <td>...</td>\n",
       "      <td>...</td>\n",
       "      <td>...</td>\n",
       "      <td>...</td>\n",
       "      <td>...</td>\n",
       "      <td>...</td>\n",
       "      <td>...</td>\n",
       "      <td>...</td>\n",
       "      <td>...</td>\n",
       "      <td>...</td>\n",
       "      <td>...</td>\n",
       "      <td>...</td>\n",
       "    </tr>\n",
       "    <tr>\n",
       "      <th>8688</th>\n",
       "      <td>9276_01</td>\n",
       "      <td>Europa</td>\n",
       "      <td>False</td>\n",
       "      <td>A/98/P</td>\n",
       "      <td>55 Cancri e</td>\n",
       "      <td>41.0</td>\n",
       "      <td>True</td>\n",
       "      <td>0.0</td>\n",
       "      <td>6819.0</td>\n",
       "      <td>0.0</td>\n",
       "      <td>1643.0</td>\n",
       "      <td>74.0</td>\n",
       "      <td>Gravior Noxnuther</td>\n",
       "      <td>False</td>\n",
       "    </tr>\n",
       "    <tr>\n",
       "      <th>8689</th>\n",
       "      <td>9278_01</td>\n",
       "      <td>Earth</td>\n",
       "      <td>True</td>\n",
       "      <td>G/1499/S</td>\n",
       "      <td>PSO J318.5-22</td>\n",
       "      <td>18.0</td>\n",
       "      <td>False</td>\n",
       "      <td>0.0</td>\n",
       "      <td>0.0</td>\n",
       "      <td>0.0</td>\n",
       "      <td>0.0</td>\n",
       "      <td>0.0</td>\n",
       "      <td>Kurta Mondalley</td>\n",
       "      <td>False</td>\n",
       "    </tr>\n",
       "    <tr>\n",
       "      <th>8690</th>\n",
       "      <td>9279_01</td>\n",
       "      <td>Earth</td>\n",
       "      <td>False</td>\n",
       "      <td>G/1500/S</td>\n",
       "      <td>TRAPPIST-1e</td>\n",
       "      <td>26.0</td>\n",
       "      <td>False</td>\n",
       "      <td>0.0</td>\n",
       "      <td>0.0</td>\n",
       "      <td>1872.0</td>\n",
       "      <td>1.0</td>\n",
       "      <td>0.0</td>\n",
       "      <td>Fayey Connon</td>\n",
       "      <td>True</td>\n",
       "    </tr>\n",
       "    <tr>\n",
       "      <th>8691</th>\n",
       "      <td>9280_01</td>\n",
       "      <td>Europa</td>\n",
       "      <td>False</td>\n",
       "      <td>E/608/S</td>\n",
       "      <td>55 Cancri e</td>\n",
       "      <td>32.0</td>\n",
       "      <td>False</td>\n",
       "      <td>0.0</td>\n",
       "      <td>1049.0</td>\n",
       "      <td>0.0</td>\n",
       "      <td>353.0</td>\n",
       "      <td>3235.0</td>\n",
       "      <td>Celeon Hontichre</td>\n",
       "      <td>False</td>\n",
       "    </tr>\n",
       "    <tr>\n",
       "      <th>8692</th>\n",
       "      <td>9280_02</td>\n",
       "      <td>Europa</td>\n",
       "      <td>False</td>\n",
       "      <td>E/608/S</td>\n",
       "      <td>TRAPPIST-1e</td>\n",
       "      <td>44.0</td>\n",
       "      <td>False</td>\n",
       "      <td>126.0</td>\n",
       "      <td>4688.0</td>\n",
       "      <td>0.0</td>\n",
       "      <td>0.0</td>\n",
       "      <td>12.0</td>\n",
       "      <td>Propsh Hontichre</td>\n",
       "      <td>True</td>\n",
       "    </tr>\n",
       "  </tbody>\n",
       "</table>\n",
       "<p>8693 rows × 14 columns</p>\n",
       "</div>"
      ],
      "text/plain": [
       "     PassengerId HomePlanet CryoSleep     Cabin    Destination   Age    VIP  \\\n",
       "0        0001_01     Europa     False     B/0/P    TRAPPIST-1e  39.0  False   \n",
       "1        0002_01      Earth     False     F/0/S    TRAPPIST-1e  24.0  False   \n",
       "2        0003_01     Europa     False     A/0/S    TRAPPIST-1e  58.0   True   \n",
       "3        0003_02     Europa     False     A/0/S    TRAPPIST-1e  33.0  False   \n",
       "4        0004_01      Earth     False     F/1/S    TRAPPIST-1e  16.0  False   \n",
       "...          ...        ...       ...       ...            ...   ...    ...   \n",
       "8688     9276_01     Europa     False    A/98/P    55 Cancri e  41.0   True   \n",
       "8689     9278_01      Earth      True  G/1499/S  PSO J318.5-22  18.0  False   \n",
       "8690     9279_01      Earth     False  G/1500/S    TRAPPIST-1e  26.0  False   \n",
       "8691     9280_01     Europa     False   E/608/S    55 Cancri e  32.0  False   \n",
       "8692     9280_02     Europa     False   E/608/S    TRAPPIST-1e  44.0  False   \n",
       "\n",
       "      RoomService  FoodCourt  ShoppingMall     Spa  VRDeck               Name  \\\n",
       "0             0.0        0.0           0.0     0.0     0.0    Maham Ofracculy   \n",
       "1           109.0        9.0          25.0   549.0    44.0       Juanna Vines   \n",
       "2            43.0     3576.0           0.0  6715.0    49.0      Altark Susent   \n",
       "3             0.0     1283.0         371.0  3329.0   193.0       Solam Susent   \n",
       "4           303.0       70.0         151.0   565.0     2.0  Willy Santantines   \n",
       "...           ...        ...           ...     ...     ...                ...   \n",
       "8688          0.0     6819.0           0.0  1643.0    74.0  Gravior Noxnuther   \n",
       "8689          0.0        0.0           0.0     0.0     0.0    Kurta Mondalley   \n",
       "8690          0.0        0.0        1872.0     1.0     0.0       Fayey Connon   \n",
       "8691          0.0     1049.0           0.0   353.0  3235.0   Celeon Hontichre   \n",
       "8692        126.0     4688.0           0.0     0.0    12.0   Propsh Hontichre   \n",
       "\n",
       "      Transported  \n",
       "0           False  \n",
       "1            True  \n",
       "2           False  \n",
       "3           False  \n",
       "4            True  \n",
       "...           ...  \n",
       "8688        False  \n",
       "8689        False  \n",
       "8690         True  \n",
       "8691        False  \n",
       "8692         True  \n",
       "\n",
       "[8693 rows x 14 columns]"
      ]
     },
     "execution_count": 4,
     "metadata": {},
     "output_type": "execute_result"
    }
   ],
   "source": [
    "train"
   ]
  },
  {
   "cell_type": "code",
   "execution_count": 5,
   "id": "b84d57bc",
   "metadata": {
    "execution": {
     "iopub.execute_input": "2025-05-01T07:33:48.801462Z",
     "iopub.status.busy": "2025-05-01T07:33:48.801099Z",
     "iopub.status.idle": "2025-05-01T07:33:48.821512Z",
     "shell.execute_reply": "2025-05-01T07:33:48.820600Z"
    },
    "papermill": {
     "duration": 0.026642,
     "end_time": "2025-05-01T07:33:48.822981",
     "exception": false,
     "start_time": "2025-05-01T07:33:48.796339",
     "status": "completed"
    },
    "tags": []
   },
   "outputs": [
    {
     "name": "stderr",
     "output_type": "stream",
     "text": [
      "/usr/local/lib/python3.11/dist-packages/pandas/io/formats/format.py:1458: RuntimeWarning: invalid value encountered in greater\n",
      "  has_large_values = (abs_vals > 1e6).any()\n",
      "/usr/local/lib/python3.11/dist-packages/pandas/io/formats/format.py:1459: RuntimeWarning: invalid value encountered in less\n",
      "  has_small_values = ((abs_vals < 10 ** (-self.digits)) & (abs_vals > 0)).any()\n",
      "/usr/local/lib/python3.11/dist-packages/pandas/io/formats/format.py:1459: RuntimeWarning: invalid value encountered in greater\n",
      "  has_small_values = ((abs_vals < 10 ** (-self.digits)) & (abs_vals > 0)).any()\n"
     ]
    },
    {
     "data": {
      "text/html": [
       "<div>\n",
       "<style scoped>\n",
       "    .dataframe tbody tr th:only-of-type {\n",
       "        vertical-align: middle;\n",
       "    }\n",
       "\n",
       "    .dataframe tbody tr th {\n",
       "        vertical-align: top;\n",
       "    }\n",
       "\n",
       "    .dataframe thead th {\n",
       "        text-align: right;\n",
       "    }\n",
       "</style>\n",
       "<table border=\"1\" class=\"dataframe\">\n",
       "  <thead>\n",
       "    <tr style=\"text-align: right;\">\n",
       "      <th></th>\n",
       "      <th>PassengerId</th>\n",
       "      <th>HomePlanet</th>\n",
       "      <th>CryoSleep</th>\n",
       "      <th>Cabin</th>\n",
       "      <th>Destination</th>\n",
       "      <th>Age</th>\n",
       "      <th>VIP</th>\n",
       "      <th>RoomService</th>\n",
       "      <th>FoodCourt</th>\n",
       "      <th>ShoppingMall</th>\n",
       "      <th>Spa</th>\n",
       "      <th>VRDeck</th>\n",
       "      <th>Name</th>\n",
       "    </tr>\n",
       "  </thead>\n",
       "  <tbody>\n",
       "    <tr>\n",
       "      <th>0</th>\n",
       "      <td>0013_01</td>\n",
       "      <td>Earth</td>\n",
       "      <td>True</td>\n",
       "      <td>G/3/S</td>\n",
       "      <td>TRAPPIST-1e</td>\n",
       "      <td>27.0</td>\n",
       "      <td>False</td>\n",
       "      <td>0.0</td>\n",
       "      <td>0.0</td>\n",
       "      <td>0.0</td>\n",
       "      <td>0.0</td>\n",
       "      <td>0.0</td>\n",
       "      <td>Nelly Carsoning</td>\n",
       "    </tr>\n",
       "    <tr>\n",
       "      <th>1</th>\n",
       "      <td>0018_01</td>\n",
       "      <td>Earth</td>\n",
       "      <td>False</td>\n",
       "      <td>F/4/S</td>\n",
       "      <td>TRAPPIST-1e</td>\n",
       "      <td>19.0</td>\n",
       "      <td>False</td>\n",
       "      <td>0.0</td>\n",
       "      <td>9.0</td>\n",
       "      <td>0.0</td>\n",
       "      <td>2823.0</td>\n",
       "      <td>0.0</td>\n",
       "      <td>Lerome Peckers</td>\n",
       "    </tr>\n",
       "    <tr>\n",
       "      <th>2</th>\n",
       "      <td>0019_01</td>\n",
       "      <td>Europa</td>\n",
       "      <td>True</td>\n",
       "      <td>C/0/S</td>\n",
       "      <td>55 Cancri e</td>\n",
       "      <td>31.0</td>\n",
       "      <td>False</td>\n",
       "      <td>0.0</td>\n",
       "      <td>0.0</td>\n",
       "      <td>0.0</td>\n",
       "      <td>0.0</td>\n",
       "      <td>0.0</td>\n",
       "      <td>Sabih Unhearfus</td>\n",
       "    </tr>\n",
       "    <tr>\n",
       "      <th>3</th>\n",
       "      <td>0021_01</td>\n",
       "      <td>Europa</td>\n",
       "      <td>False</td>\n",
       "      <td>C/1/S</td>\n",
       "      <td>TRAPPIST-1e</td>\n",
       "      <td>38.0</td>\n",
       "      <td>False</td>\n",
       "      <td>0.0</td>\n",
       "      <td>6652.0</td>\n",
       "      <td>0.0</td>\n",
       "      <td>181.0</td>\n",
       "      <td>585.0</td>\n",
       "      <td>Meratz Caltilter</td>\n",
       "    </tr>\n",
       "    <tr>\n",
       "      <th>4</th>\n",
       "      <td>0023_01</td>\n",
       "      <td>Earth</td>\n",
       "      <td>False</td>\n",
       "      <td>F/5/S</td>\n",
       "      <td>TRAPPIST-1e</td>\n",
       "      <td>20.0</td>\n",
       "      <td>False</td>\n",
       "      <td>10.0</td>\n",
       "      <td>0.0</td>\n",
       "      <td>635.0</td>\n",
       "      <td>0.0</td>\n",
       "      <td>0.0</td>\n",
       "      <td>Brence Harperez</td>\n",
       "    </tr>\n",
       "    <tr>\n",
       "      <th>...</th>\n",
       "      <td>...</td>\n",
       "      <td>...</td>\n",
       "      <td>...</td>\n",
       "      <td>...</td>\n",
       "      <td>...</td>\n",
       "      <td>...</td>\n",
       "      <td>...</td>\n",
       "      <td>...</td>\n",
       "      <td>...</td>\n",
       "      <td>...</td>\n",
       "      <td>...</td>\n",
       "      <td>...</td>\n",
       "      <td>...</td>\n",
       "    </tr>\n",
       "    <tr>\n",
       "      <th>4272</th>\n",
       "      <td>9266_02</td>\n",
       "      <td>Earth</td>\n",
       "      <td>True</td>\n",
       "      <td>G/1496/S</td>\n",
       "      <td>TRAPPIST-1e</td>\n",
       "      <td>34.0</td>\n",
       "      <td>False</td>\n",
       "      <td>0.0</td>\n",
       "      <td>0.0</td>\n",
       "      <td>0.0</td>\n",
       "      <td>0.0</td>\n",
       "      <td>0.0</td>\n",
       "      <td>Jeron Peter</td>\n",
       "    </tr>\n",
       "    <tr>\n",
       "      <th>4273</th>\n",
       "      <td>9269_01</td>\n",
       "      <td>Earth</td>\n",
       "      <td>False</td>\n",
       "      <td>NaN</td>\n",
       "      <td>TRAPPIST-1e</td>\n",
       "      <td>42.0</td>\n",
       "      <td>False</td>\n",
       "      <td>0.0</td>\n",
       "      <td>847.0</td>\n",
       "      <td>17.0</td>\n",
       "      <td>10.0</td>\n",
       "      <td>144.0</td>\n",
       "      <td>Matty Scheron</td>\n",
       "    </tr>\n",
       "    <tr>\n",
       "      <th>4274</th>\n",
       "      <td>9271_01</td>\n",
       "      <td>Mars</td>\n",
       "      <td>True</td>\n",
       "      <td>D/296/P</td>\n",
       "      <td>55 Cancri e</td>\n",
       "      <td>NaN</td>\n",
       "      <td>False</td>\n",
       "      <td>0.0</td>\n",
       "      <td>0.0</td>\n",
       "      <td>0.0</td>\n",
       "      <td>0.0</td>\n",
       "      <td>0.0</td>\n",
       "      <td>Jayrin Pore</td>\n",
       "    </tr>\n",
       "    <tr>\n",
       "      <th>4275</th>\n",
       "      <td>9273_01</td>\n",
       "      <td>Europa</td>\n",
       "      <td>False</td>\n",
       "      <td>D/297/P</td>\n",
       "      <td>NaN</td>\n",
       "      <td>NaN</td>\n",
       "      <td>False</td>\n",
       "      <td>0.0</td>\n",
       "      <td>2680.0</td>\n",
       "      <td>0.0</td>\n",
       "      <td>0.0</td>\n",
       "      <td>523.0</td>\n",
       "      <td>Kitakan Conale</td>\n",
       "    </tr>\n",
       "    <tr>\n",
       "      <th>4276</th>\n",
       "      <td>9277_01</td>\n",
       "      <td>Earth</td>\n",
       "      <td>True</td>\n",
       "      <td>G/1498/S</td>\n",
       "      <td>PSO J318.5-22</td>\n",
       "      <td>43.0</td>\n",
       "      <td>False</td>\n",
       "      <td>0.0</td>\n",
       "      <td>0.0</td>\n",
       "      <td>0.0</td>\n",
       "      <td>0.0</td>\n",
       "      <td>0.0</td>\n",
       "      <td>Lilace Leonzaley</td>\n",
       "    </tr>\n",
       "  </tbody>\n",
       "</table>\n",
       "<p>4277 rows × 13 columns</p>\n",
       "</div>"
      ],
      "text/plain": [
       "     PassengerId HomePlanet CryoSleep     Cabin    Destination   Age    VIP  \\\n",
       "0        0013_01      Earth      True     G/3/S    TRAPPIST-1e  27.0  False   \n",
       "1        0018_01      Earth     False     F/4/S    TRAPPIST-1e  19.0  False   \n",
       "2        0019_01     Europa      True     C/0/S    55 Cancri e  31.0  False   \n",
       "3        0021_01     Europa     False     C/1/S    TRAPPIST-1e  38.0  False   \n",
       "4        0023_01      Earth     False     F/5/S    TRAPPIST-1e  20.0  False   \n",
       "...          ...        ...       ...       ...            ...   ...    ...   \n",
       "4272     9266_02      Earth      True  G/1496/S    TRAPPIST-1e  34.0  False   \n",
       "4273     9269_01      Earth     False       NaN    TRAPPIST-1e  42.0  False   \n",
       "4274     9271_01       Mars      True   D/296/P    55 Cancri e   NaN  False   \n",
       "4275     9273_01     Europa     False   D/297/P            NaN   NaN  False   \n",
       "4276     9277_01      Earth      True  G/1498/S  PSO J318.5-22  43.0  False   \n",
       "\n",
       "      RoomService  FoodCourt  ShoppingMall     Spa  VRDeck              Name  \n",
       "0             0.0        0.0           0.0     0.0     0.0   Nelly Carsoning  \n",
       "1             0.0        9.0           0.0  2823.0     0.0    Lerome Peckers  \n",
       "2             0.0        0.0           0.0     0.0     0.0   Sabih Unhearfus  \n",
       "3             0.0     6652.0           0.0   181.0   585.0  Meratz Caltilter  \n",
       "4            10.0        0.0         635.0     0.0     0.0   Brence Harperez  \n",
       "...           ...        ...           ...     ...     ...               ...  \n",
       "4272          0.0        0.0           0.0     0.0     0.0       Jeron Peter  \n",
       "4273          0.0      847.0          17.0    10.0   144.0     Matty Scheron  \n",
       "4274          0.0        0.0           0.0     0.0     0.0       Jayrin Pore  \n",
       "4275          0.0     2680.0           0.0     0.0   523.0    Kitakan Conale  \n",
       "4276          0.0        0.0           0.0     0.0     0.0  Lilace Leonzaley  \n",
       "\n",
       "[4277 rows x 13 columns]"
      ]
     },
     "execution_count": 5,
     "metadata": {},
     "output_type": "execute_result"
    }
   ],
   "source": [
    "test"
   ]
  },
  {
   "cell_type": "code",
   "execution_count": 6,
   "id": "1cf6f585",
   "metadata": {
    "execution": {
     "iopub.execute_input": "2025-05-01T07:33:48.833144Z",
     "iopub.status.busy": "2025-05-01T07:33:48.832886Z",
     "iopub.status.idle": "2025-05-01T07:33:48.839175Z",
     "shell.execute_reply": "2025-05-01T07:33:48.838450Z"
    },
    "papermill": {
     "duration": 0.013164,
     "end_time": "2025-05-01T07:33:48.840710",
     "exception": false,
     "start_time": "2025-05-01T07:33:48.827546",
     "status": "completed"
    },
    "tags": []
   },
   "outputs": [
    {
     "name": "stdout",
     "output_type": "stream",
     "text": [
      "Index(['PassengerId', 'HomePlanet', 'CryoSleep', 'Cabin', 'Destination', 'Age',\n",
      "       'VIP', 'RoomService', 'FoodCourt', 'ShoppingMall', 'Spa', 'VRDeck',\n",
      "       'Name', 'Transported'],\n",
      "      dtype='object')\n",
      "Index(['PassengerId', 'HomePlanet', 'CryoSleep', 'Cabin', 'Destination', 'Age',\n",
      "       'VIP', 'RoomService', 'FoodCourt', 'ShoppingMall', 'Spa', 'VRDeck',\n",
      "       'Name'],\n",
      "      dtype='object')\n"
     ]
    }
   ],
   "source": [
    "print(train.columns)\n",
    "print(test.columns)"
   ]
  },
  {
   "cell_type": "code",
   "execution_count": 7,
   "id": "8762317c",
   "metadata": {
    "execution": {
     "iopub.execute_input": "2025-05-01T07:33:48.851249Z",
     "iopub.status.busy": "2025-05-01T07:33:48.850936Z",
     "iopub.status.idle": "2025-05-01T07:33:48.877874Z",
     "shell.execute_reply": "2025-05-01T07:33:48.877067Z"
    },
    "papermill": {
     "duration": 0.033924,
     "end_time": "2025-05-01T07:33:48.879216",
     "exception": false,
     "start_time": "2025-05-01T07:33:48.845292",
     "status": "completed"
    },
    "tags": []
   },
   "outputs": [
    {
     "name": "stdout",
     "output_type": "stream",
     "text": [
      "<class 'pandas.core.frame.DataFrame'>\n",
      "RangeIndex: 8693 entries, 0 to 8692\n",
      "Data columns (total 14 columns):\n",
      " #   Column        Non-Null Count  Dtype  \n",
      "---  ------        --------------  -----  \n",
      " 0   PassengerId   8693 non-null   object \n",
      " 1   HomePlanet    8492 non-null   object \n",
      " 2   CryoSleep     8476 non-null   object \n",
      " 3   Cabin         8494 non-null   object \n",
      " 4   Destination   8511 non-null   object \n",
      " 5   Age           8514 non-null   float64\n",
      " 6   VIP           8490 non-null   object \n",
      " 7   RoomService   8512 non-null   float64\n",
      " 8   FoodCourt     8510 non-null   float64\n",
      " 9   ShoppingMall  8485 non-null   float64\n",
      " 10  Spa           8510 non-null   float64\n",
      " 11  VRDeck        8505 non-null   float64\n",
      " 12  Name          8493 non-null   object \n",
      " 13  Transported   8693 non-null   bool   \n",
      "dtypes: bool(1), float64(6), object(7)\n",
      "memory usage: 891.5+ KB\n"
     ]
    }
   ],
   "source": [
    "train.info()"
   ]
  },
  {
   "cell_type": "code",
   "execution_count": 8,
   "id": "f10c1e98",
   "metadata": {
    "execution": {
     "iopub.execute_input": "2025-05-01T07:33:48.890304Z",
     "iopub.status.busy": "2025-05-01T07:33:48.889970Z",
     "iopub.status.idle": "2025-05-01T07:33:48.898126Z",
     "shell.execute_reply": "2025-05-01T07:33:48.897400Z"
    },
    "papermill": {
     "duration": 0.014973,
     "end_time": "2025-05-01T07:33:48.899613",
     "exception": false,
     "start_time": "2025-05-01T07:33:48.884640",
     "status": "completed"
    },
    "tags": []
   },
   "outputs": [],
   "source": [
    "X_train = train.drop([\"Name\", \"Transported\"], axis=1).copy()\n",
    "y_train = train[\"Transported\"]\n",
    "X_test = test.drop([\"Name\"], axis=1).copy()"
   ]
  },
  {
   "cell_type": "code",
   "execution_count": 9,
   "id": "1d71c7e5",
   "metadata": {
    "execution": {
     "iopub.execute_input": "2025-05-01T07:33:48.910068Z",
     "iopub.status.busy": "2025-05-01T07:33:48.909559Z",
     "iopub.status.idle": "2025-05-01T07:33:48.919787Z",
     "shell.execute_reply": "2025-05-01T07:33:48.919053Z"
    },
    "papermill": {
     "duration": 0.016946,
     "end_time": "2025-05-01T07:33:48.921263",
     "exception": false,
     "start_time": "2025-05-01T07:33:48.904317",
     "status": "completed"
    },
    "tags": []
   },
   "outputs": [
    {
     "data": {
      "text/plain": [
       "PassengerId       0\n",
       "HomePlanet      201\n",
       "CryoSleep       217\n",
       "Cabin           199\n",
       "Destination     182\n",
       "Age             179\n",
       "VIP             203\n",
       "RoomService     181\n",
       "FoodCourt       183\n",
       "ShoppingMall    208\n",
       "Spa             183\n",
       "VRDeck          188\n",
       "dtype: int64"
      ]
     },
     "execution_count": 9,
     "metadata": {},
     "output_type": "execute_result"
    }
   ],
   "source": [
    "X_train.isnull().sum()"
   ]
  },
  {
   "cell_type": "code",
   "execution_count": 10,
   "id": "1689ef4e",
   "metadata": {
    "execution": {
     "iopub.execute_input": "2025-05-01T07:33:48.931851Z",
     "iopub.status.busy": "2025-05-01T07:33:48.931559Z",
     "iopub.status.idle": "2025-05-01T07:33:49.053977Z",
     "shell.execute_reply": "2025-05-01T07:33:49.052958Z"
    },
    "papermill": {
     "duration": 0.129566,
     "end_time": "2025-05-01T07:33:49.055603",
     "exception": false,
     "start_time": "2025-05-01T07:33:48.926037",
     "status": "completed"
    },
    "tags": []
   },
   "outputs": [],
   "source": [
    "# Group / GroupSize\n",
    "X_train[\"Group\"] = X_train[\"PassengerId\"].str.split('_').str[0]\n",
    "X_test[\"Group\"] = X_test[\"PassengerId\"].str.split('_').str[0]\n",
    "\n",
    "group_counts = X_train[\"Group\"].value_counts().to_dict()\n",
    "X_train[\"GroupSize\"] = X_train[\"Group\"].map(group_counts)\n",
    "X_test[\"GroupSize\"] = X_test[\"Group\"].map(lambda g: group_counts.get(g, 1))"
   ]
  },
  {
   "cell_type": "code",
   "execution_count": 11,
   "id": "2b753a18",
   "metadata": {
    "execution": {
     "iopub.execute_input": "2025-05-01T07:33:49.066338Z",
     "iopub.status.busy": "2025-05-01T07:33:49.065987Z",
     "iopub.status.idle": "2025-05-01T07:33:49.092286Z",
     "shell.execute_reply": "2025-05-01T07:33:49.091411Z"
    },
    "papermill": {
     "duration": 0.033434,
     "end_time": "2025-05-01T07:33:49.093783",
     "exception": false,
     "start_time": "2025-05-01T07:33:49.060349",
     "status": "completed"
    },
    "tags": []
   },
   "outputs": [],
   "source": [
    "# Cabin → Deck / Num / Side\n",
    "def split_cabin(df):\n",
    "    cabin_split = df[\"Cabin\"].str.split(\"/\", expand=True)\n",
    "    df[\"Deck\"] = cabin_split[0]\n",
    "    df[\"CabinNum\"] = pd.to_numeric(cabin_split[1], errors=\"coerce\")\n",
    "    df[\"Side\"] = cabin_split[2]\n",
    "    return df\n",
    "\n",
    "X_train = split_cabin(X_train)\n",
    "X_test = split_cabin(X_test)"
   ]
  },
  {
   "cell_type": "code",
   "execution_count": 12,
   "id": "e41d5fd7",
   "metadata": {
    "execution": {
     "iopub.execute_input": "2025-05-01T07:33:49.104603Z",
     "iopub.status.busy": "2025-05-01T07:33:49.104047Z",
     "iopub.status.idle": "2025-05-01T07:33:49.113342Z",
     "shell.execute_reply": "2025-05-01T07:33:49.112666Z"
    },
    "papermill": {
     "duration": 0.016295,
     "end_time": "2025-05-01T07:33:49.114834",
     "exception": false,
     "start_time": "2025-05-01T07:33:49.098539",
     "status": "completed"
    },
    "tags": []
   },
   "outputs": [],
   "source": [
    "# 금액 관련 null → 0 + TotalSpent\n",
    "spend_cols = [\"RoomService\", \"FoodCourt\", \"ShoppingMall\", \"Spa\", \"VRDeck\"]\n",
    "X_train[spend_cols] = X_train[spend_cols].fillna(0)\n",
    "X_test[spend_cols] = X_test[spend_cols].fillna(0)"
   ]
  },
  {
   "cell_type": "code",
   "execution_count": 13,
   "id": "b187cca9",
   "metadata": {
    "execution": {
     "iopub.execute_input": "2025-05-01T07:33:49.125759Z",
     "iopub.status.busy": "2025-05-01T07:33:49.125070Z",
     "iopub.status.idle": "2025-05-01T07:33:49.136054Z",
     "shell.execute_reply": "2025-05-01T07:33:49.135136Z"
    },
    "papermill": {
     "duration": 0.017876,
     "end_time": "2025-05-01T07:33:49.137485",
     "exception": false,
     "start_time": "2025-05-01T07:33:49.119609",
     "status": "completed"
    },
    "tags": []
   },
   "outputs": [],
   "source": [
    "X_train[\"TotalSpent\"] = X_train[spend_cols].sum(axis=1)\n",
    "X_test[\"TotalSpent\"] = X_test[spend_cols].sum(axis=1)"
   ]
  },
  {
   "cell_type": "code",
   "execution_count": 14,
   "id": "1a961404",
   "metadata": {
    "execution": {
     "iopub.execute_input": "2025-05-01T07:33:49.147838Z",
     "iopub.status.busy": "2025-05-01T07:33:49.147542Z",
     "iopub.status.idle": "2025-05-01T07:33:49.155672Z",
     "shell.execute_reply": "2025-05-01T07:33:49.154691Z"
    },
    "papermill": {
     "duration": 0.015101,
     "end_time": "2025-05-01T07:33:49.157184",
     "exception": false,
     "start_time": "2025-05-01T07:33:49.142083",
     "status": "completed"
    },
    "tags": []
   },
   "outputs": [],
   "source": [
    "# CryoSleep + 소비 플래그\n",
    "X_train[\"SleepAndSpent\"] = (X_train[\"CryoSleep\"] == True) & (X_train[\"TotalSpent\"] > 0)\n",
    "X_test[\"SleepAndSpent\"] = (X_test[\"CryoSleep\"] == True) & (X_test[\"TotalSpent\"] > 0)"
   ]
  },
  {
   "cell_type": "code",
   "execution_count": 15,
   "id": "5a7b65cb",
   "metadata": {
    "execution": {
     "iopub.execute_input": "2025-05-01T07:33:49.167901Z",
     "iopub.status.busy": "2025-05-01T07:33:49.167591Z",
     "iopub.status.idle": "2025-05-01T07:33:49.182518Z",
     "shell.execute_reply": "2025-05-01T07:33:49.181818Z"
    },
    "papermill": {
     "duration": 0.021996,
     "end_time": "2025-05-01T07:33:49.183909",
     "exception": false,
     "start_time": "2025-05-01T07:33:49.161913",
     "status": "completed"
    },
    "tags": []
   },
   "outputs": [],
   "source": [
    "# 범주형 → 'Unknown'\n",
    "cat_cols = ['HomePlanet', 'CryoSleep', 'Destination', 'VIP', 'Deck', 'Side']\n",
    "for col in cat_cols:\n",
    "    X_train[col] = X_train[col].fillna(\"Unknown\")\n",
    "    X_test[col] = X_test[col].fillna(\"Unknown\")"
   ]
  },
  {
   "cell_type": "code",
   "execution_count": 16,
   "id": "a2f4e810",
   "metadata": {
    "execution": {
     "iopub.execute_input": "2025-05-01T07:33:49.194321Z",
     "iopub.status.busy": "2025-05-01T07:33:49.193841Z",
     "iopub.status.idle": "2025-05-01T07:33:49.200215Z",
     "shell.execute_reply": "2025-05-01T07:33:49.199654Z"
    },
    "papermill": {
     "duration": 0.012874,
     "end_time": "2025-05-01T07:33:49.201568",
     "exception": false,
     "start_time": "2025-05-01T07:33:49.188694",
     "status": "completed"
    },
    "tags": []
   },
   "outputs": [],
   "source": [
    "# 수치형 → 중앙값\n",
    "num_cols = ['Age', 'CabinNum']\n",
    "for col in num_cols:\n",
    "    X_train[col] = X_train[col].fillna(X_train[col].median())\n",
    "    X_test[col] = X_test[col].fillna(X_train[col].median())\n"
   ]
  },
  {
   "cell_type": "code",
   "execution_count": 17,
   "id": "1fc7d904",
   "metadata": {
    "execution": {
     "iopub.execute_input": "2025-05-01T07:33:49.211549Z",
     "iopub.status.busy": "2025-05-01T07:33:49.211265Z",
     "iopub.status.idle": "2025-05-01T07:33:49.249249Z",
     "shell.execute_reply": "2025-05-01T07:33:49.248300Z"
    },
    "papermill": {
     "duration": 0.044641,
     "end_time": "2025-05-01T07:33:49.250806",
     "exception": false,
     "start_time": "2025-05-01T07:33:49.206165",
     "status": "completed"
    },
    "tags": []
   },
   "outputs": [],
   "source": [
    "from sklearn.preprocessing import LabelEncoder\n",
    "\n",
    "# 인코딩\n",
    "label_cols = cat_cols + ['SleepAndSpent']\n",
    "encoders = {}\n",
    "for col in label_cols:\n",
    "    le = LabelEncoder()\n",
    "    X_train[col] = le.fit_transform(X_train[col].astype(str))\n",
    "    X_test[col] = le.transform(X_test[col].astype(str))\n",
    "    encoders[col] = le"
   ]
  },
  {
   "cell_type": "code",
   "execution_count": 18,
   "id": "393e884e",
   "metadata": {
    "execution": {
     "iopub.execute_input": "2025-05-01T07:33:49.261679Z",
     "iopub.status.busy": "2025-05-01T07:33:49.261320Z",
     "iopub.status.idle": "2025-05-01T07:33:50.713871Z",
     "shell.execute_reply": "2025-05-01T07:33:50.713176Z"
    },
    "papermill": {
     "duration": 1.459555,
     "end_time": "2025-05-01T07:33:50.715456",
     "exception": false,
     "start_time": "2025-05-01T07:33:49.255901",
     "status": "completed"
    },
    "tags": []
   },
   "outputs": [],
   "source": [
    "drop_cols = [\"PassengerId\", \"Cabin\", \"Group\"]\n",
    "X_train_final = X_train.drop(columns=drop_cols)\n",
    "X_test_final = X_test.drop(columns=drop_cols)\n",
    "\n",
    "model = RandomForestClassifier(random_state=42)\n",
    "model.fit(X_train_final, y_train)\n",
    "\n",
    "# 예측\n",
    "y_pred = model.predict(X_test_final)"
   ]
  },
  {
   "cell_type": "code",
   "execution_count": 19,
   "id": "f2be8135",
   "metadata": {
    "execution": {
     "iopub.execute_input": "2025-05-01T07:33:50.727322Z",
     "iopub.status.busy": "2025-05-01T07:33:50.727042Z",
     "iopub.status.idle": "2025-05-01T07:33:50.741285Z",
     "shell.execute_reply": "2025-05-01T07:33:50.740407Z"
    },
    "papermill": {
     "duration": 0.022151,
     "end_time": "2025-05-01T07:33:50.742919",
     "exception": false,
     "start_time": "2025-05-01T07:33:50.720768",
     "status": "completed"
    },
    "tags": []
   },
   "outputs": [],
   "source": [
    "submission = pd.DataFrame({\n",
    "    \"PassengerId\": test[\"PassengerId\"],\n",
    "    \"Transported\": y_pred\n",
    "})\n",
    "submission.to_csv(\"submission.csv\", index=False)\n"
   ]
  },
  {
   "cell_type": "code",
   "execution_count": 20,
   "id": "3d57003a",
   "metadata": {
    "execution": {
     "iopub.execute_input": "2025-05-01T07:33:50.753501Z",
     "iopub.status.busy": "2025-05-01T07:33:50.753182Z",
     "iopub.status.idle": "2025-05-01T07:33:50.762612Z",
     "shell.execute_reply": "2025-05-01T07:33:50.761874Z"
    },
    "papermill": {
     "duration": 0.016156,
     "end_time": "2025-05-01T07:33:50.763935",
     "exception": false,
     "start_time": "2025-05-01T07:33:50.747779",
     "status": "completed"
    },
    "tags": []
   },
   "outputs": [
    {
     "data": {
      "text/html": [
       "<div>\n",
       "<style scoped>\n",
       "    .dataframe tbody tr th:only-of-type {\n",
       "        vertical-align: middle;\n",
       "    }\n",
       "\n",
       "    .dataframe tbody tr th {\n",
       "        vertical-align: top;\n",
       "    }\n",
       "\n",
       "    .dataframe thead th {\n",
       "        text-align: right;\n",
       "    }\n",
       "</style>\n",
       "<table border=\"1\" class=\"dataframe\">\n",
       "  <thead>\n",
       "    <tr style=\"text-align: right;\">\n",
       "      <th></th>\n",
       "      <th>PassengerId</th>\n",
       "      <th>Transported</th>\n",
       "    </tr>\n",
       "  </thead>\n",
       "  <tbody>\n",
       "    <tr>\n",
       "      <th>0</th>\n",
       "      <td>0013_01</td>\n",
       "      <td>True</td>\n",
       "    </tr>\n",
       "    <tr>\n",
       "      <th>1</th>\n",
       "      <td>0018_01</td>\n",
       "      <td>False</td>\n",
       "    </tr>\n",
       "    <tr>\n",
       "      <th>2</th>\n",
       "      <td>0019_01</td>\n",
       "      <td>True</td>\n",
       "    </tr>\n",
       "    <tr>\n",
       "      <th>3</th>\n",
       "      <td>0021_01</td>\n",
       "      <td>True</td>\n",
       "    </tr>\n",
       "    <tr>\n",
       "      <th>4</th>\n",
       "      <td>0023_01</td>\n",
       "      <td>False</td>\n",
       "    </tr>\n",
       "    <tr>\n",
       "      <th>...</th>\n",
       "      <td>...</td>\n",
       "      <td>...</td>\n",
       "    </tr>\n",
       "    <tr>\n",
       "      <th>4272</th>\n",
       "      <td>9266_02</td>\n",
       "      <td>False</td>\n",
       "    </tr>\n",
       "    <tr>\n",
       "      <th>4273</th>\n",
       "      <td>9269_01</td>\n",
       "      <td>False</td>\n",
       "    </tr>\n",
       "    <tr>\n",
       "      <th>4274</th>\n",
       "      <td>9271_01</td>\n",
       "      <td>True</td>\n",
       "    </tr>\n",
       "    <tr>\n",
       "      <th>4275</th>\n",
       "      <td>9273_01</td>\n",
       "      <td>True</td>\n",
       "    </tr>\n",
       "    <tr>\n",
       "      <th>4276</th>\n",
       "      <td>9277_01</td>\n",
       "      <td>False</td>\n",
       "    </tr>\n",
       "  </tbody>\n",
       "</table>\n",
       "<p>4277 rows × 2 columns</p>\n",
       "</div>"
      ],
      "text/plain": [
       "     PassengerId  Transported\n",
       "0        0013_01         True\n",
       "1        0018_01        False\n",
       "2        0019_01         True\n",
       "3        0021_01         True\n",
       "4        0023_01        False\n",
       "...          ...          ...\n",
       "4272     9266_02        False\n",
       "4273     9269_01        False\n",
       "4274     9271_01         True\n",
       "4275     9273_01         True\n",
       "4276     9277_01        False\n",
       "\n",
       "[4277 rows x 2 columns]"
      ]
     },
     "execution_count": 20,
     "metadata": {},
     "output_type": "execute_result"
    }
   ],
   "source": [
    "submission"
   ]
  }
 ],
 "metadata": {
  "kaggle": {
   "accelerator": "none",
   "dataSources": [
    {
     "databundleVersionId": 3220602,
     "sourceId": 34377,
     "sourceType": "competition"
    }
   ],
   "dockerImageVersionId": 31012,
   "isGpuEnabled": false,
   "isInternetEnabled": true,
   "language": "python",
   "sourceType": "notebook"
  },
  "kernelspec": {
   "display_name": "Python 3",
   "language": "python",
   "name": "python3"
  },
  "language_info": {
   "codemirror_mode": {
    "name": "ipython",
    "version": 3
   },
   "file_extension": ".py",
   "mimetype": "text/x-python",
   "name": "python",
   "nbconvert_exporter": "python",
   "pygments_lexer": "ipython3",
   "version": "3.11.11"
  },
  "papermill": {
   "default_parameters": {},
   "duration": 11.732719,
   "end_time": "2025-05-01T07:33:51.488960",
   "environment_variables": {},
   "exception": null,
   "input_path": "__notebook__.ipynb",
   "output_path": "__notebook__.ipynb",
   "parameters": {},
   "start_time": "2025-05-01T07:33:39.756241",
   "version": "2.6.0"
  }
 },
 "nbformat": 4,
 "nbformat_minor": 5
}
