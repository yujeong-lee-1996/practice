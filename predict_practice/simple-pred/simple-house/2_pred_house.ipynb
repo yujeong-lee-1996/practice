{
 "cells": [
  {
   "cell_type": "code",
   "execution_count": 30,
   "metadata": {},
   "outputs": [],
   "source": [
    "import pandas as pd\n",
    "import numpy as np \n",
    "from scipy.stats import f_oneway\n",
    "from sklearn.linear_model import LinearRegression\n",
    "from sklearn.metrics import mean_squared_error\n",
    "from sklearn.linear_model import RidgeCV, LassoCV"
   ]
  },
  {
   "cell_type": "code",
   "execution_count": 40,
   "metadata": {},
   "outputs": [],
   "source": [
    "# 데이터 불러오기\n",
    "train = pd.read_csv(\"train.csv\")\n",
    "test = pd.read_csv(\"test.csv\")"
   ]
  },
  {
   "cell_type": "code",
   "execution_count": 41,
   "metadata": {},
   "outputs": [],
   "source": [
    "y_train = train[\"SalePrice\"]"
   ]
  },
  {
   "cell_type": "code",
   "execution_count": 33,
   "metadata": {},
   "outputs": [],
   "source": [
    "categorical_feats = train.select_dtypes(include='object').columns.tolist()"
   ]
  },
  {
   "cell_type": "code",
   "execution_count": 34,
   "metadata": {},
   "outputs": [],
   "source": [
    "anova_results = []\n",
    "for col in categorical_feats:\n",
    "    try:\n",
    "        groups = [group['SalePrice'].dropna().values for name, group in train.groupby(col)]\n",
    "        if len(groups) > 1:\n",
    "            f_val, p_val = f_oneway(*groups)\n",
    "            anova_results.append((col, p_val))\n",
    "    except:\n",
    "        continue\n"
   ]
  },
  {
   "cell_type": "code",
   "execution_count": 35,
   "metadata": {},
   "outputs": [
    {
     "name": "stdout",
     "output_type": "stream",
     "text": [
      "        Feature        P-value\n",
      "0  Neighborhood  1.558600e-225\n",
      "1     ExterQual  1.439551e-204\n",
      "2   KitchenQual  3.032213e-192\n",
      "3      BsmtQual  9.610615e-186\n",
      "4  GarageFinish   1.199117e-93\n"
     ]
    }
   ],
   "source": [
    "# p-value 기준 정렬\n",
    "anova_sorted = sorted(anova_results, key=lambda x: x[1])\n",
    "top5 = pd.DataFrame(anova_sorted[:5], columns=[\"Feature\", \"P-value\"])\n",
    "print(top5)"
   ]
  },
  {
   "cell_type": "code",
   "execution_count": 36,
   "metadata": {},
   "outputs": [],
   "source": [
    "# 수치 , 범주형 컬럼 선택 \n",
    "selected_numerical = ['OverallQual', 'GrLivArea', 'GarageCars', 'GarageArea', 'TotalBsmtSF']\n",
    "selected_categorical = ['Neighborhood', 'ExterQual', 'KitchenQual', 'BsmtQual', 'GarageFinish']\n",
    "selected_features = selected_numerical + selected_categorical"
   ]
  },
  {
   "cell_type": "code",
   "execution_count": 37,
   "metadata": {},
   "outputs": [],
   "source": [
    "X_train = train[selected_features].copy()\n",
    "X_test = test[selected_features].copy()"
   ]
  },
  {
   "cell_type": "code",
   "execution_count": 42,
   "metadata": {},
   "outputs": [],
   "source": [
    "# 파생 변수 생성\n",
    "X_train[\"Age\"] = train[\"YrSold\"] - train[\"YearBuilt\"]\n",
    "X_test[\"Age\"] = test[\"YrSold\"] - test[\"YearBuilt\"]\n",
    "\n",
    "X_train[\"RemodAge\"] = train[\"YrSold\"] - train[\"YearRemodAdd\"]\n",
    "X_test[\"RemodAge\"] = test[\"YrSold\"] - test[\"YearRemodAdd\"]\n",
    "\n",
    "X_train[\"TotalBath\"] = (\n",
    "    train[\"FullBath\"] + 0.5 * train[\"HalfBath\"] +\n",
    "    train[\"BsmtFullBath\"] + 0.5 * train[\"BsmtHalfBath\"]\n",
    ")\n",
    "X_test[\"TotalBath\"] = (\n",
    "    test[\"FullBath\"] + 0.5 * test[\"HalfBath\"] +\n",
    "    test[\"BsmtFullBath\"] + 0.5 * test[\"BsmtHalfBath\"]\n",
    ")\n",
    "\n",
    "X_train[\"TotalSF\"] = (\n",
    "    train[\"TotalBsmtSF\"] + train[\"1stFlrSF\"] + train[\"2ndFlrSF\"]\n",
    ")\n",
    "X_test[\"TotalSF\"] = (\n",
    "    test[\"TotalBsmtSF\"] + test[\"1stFlrSF\"] + test[\"2ndFlrSF\"]\n",
    ")\n"
   ]
  },
  {
   "cell_type": "code",
   "execution_count": 43,
   "metadata": {},
   "outputs": [],
   "source": [
    "derived_feats = [\"Age\", \"RemodAge\", \"TotalBath\", \"TotalSF\"]\n",
    "selected_numerical += derived_feats\n",
    "selected_features = selected_numerical + selected_categorical"
   ]
  },
  {
   "cell_type": "code",
   "execution_count": 44,
   "metadata": {},
   "outputs": [],
   "source": [
    "# 범주형 → None\n",
    "for col in selected_categorical:\n",
    "    mode = X_train[col].mode()[0]\n",
    "    X_train[col] = X_train[col].fillna(mode)\n",
    "    X_test[col] = X_test[col].fillna(mode)\n",
    "\n",
    "# 수치형 → 평균\n",
    "for col in selected_numerical:\n",
    "    mean = X_train[col].mean()\n",
    "    X_train[col] = X_train[col].fillna(mean)\n",
    "    X_test[col] = X_test[col].fillna(mean)"
   ]
  },
  {
   "cell_type": "code",
   "execution_count": 45,
   "metadata": {},
   "outputs": [],
   "source": [
    "X_train_encoded = pd.get_dummies(X_train, columns=selected_categorical, drop_first=True)\n",
    "X_test_encoded = pd.get_dummies(X_test, columns=selected_categorical, drop_first=True)\n",
    "X_test_encoded = X_test_encoded.reindex(columns=X_train_encoded.columns, fill_value=0)"
   ]
  },
  {
   "cell_type": "code",
   "execution_count": 46,
   "metadata": {},
   "outputs": [],
   "source": [
    "from sklearn.preprocessing import StandardScaler\n",
    "scaler = StandardScaler()\n",
    "X_train_scaled = scaler.fit_transform(X_train_encoded)\n",
    "X_test_scaled = scaler.transform(X_test_encoded)"
   ]
  },
  {
   "cell_type": "code",
   "execution_count": 47,
   "metadata": {},
   "outputs": [
    {
     "name": "stdout",
     "output_type": "stream",
     "text": [
      "Train RMSE (log scale): 0.1471\n"
     ]
    }
   ],
   "source": [
    "from sklearn.linear_model import RidgeCV\n",
    "from sklearn.metrics import mean_squared_error\n",
    "\n",
    "alphas = np.logspace(-4, 2, 50)\n",
    "ridge = RidgeCV(alphas=alphas, cv=5)\n",
    "ridge.fit(X_train_scaled, np.log1p(y_train))\n",
    "\n",
    "y_pred = ridge.predict(X_train_scaled)\n",
    "rmse = np.sqrt(mean_squared_error(np.log1p(y_train), y_pred))\n",
    "print(f\"Train RMSE (log scale): {rmse:.4f}\")"
   ]
  },
  {
   "cell_type": "code",
   "execution_count": 48,
   "metadata": {},
   "outputs": [],
   "source": [
    "# 예측 (로그 스케일 → 원래 단위로 역변환)\n",
    "y_test_pred_log = ridge.predict(X_test_scaled)\n",
    "y_test_pred = np.expm1(y_test_pred_log)  # 역변환"
   ]
  },
  {
   "cell_type": "code",
   "execution_count": 49,
   "metadata": {},
   "outputs": [],
   "source": [
    "# 제출용 파일 생성\n",
    "submission = pd.DataFrame({\n",
    "    \"Id\": test[\"Id\"],\n",
    "    \"SalePrice\": y_test_pred\n",
    "})\n"
   ]
  },
  {
   "cell_type": "code",
   "execution_count": 50,
   "metadata": {},
   "outputs": [],
   "source": [
    "# 저장\n",
    "submission.to_csv(\"submission_ridge.csv\", index=False)\n"
   ]
  }
 ],
 "metadata": {
  "kernelspec": {
   "display_name": "python-env-311",
   "language": "python",
   "name": "python3"
  },
  "language_info": {
   "codemirror_mode": {
    "name": "ipython",
    "version": 3
   },
   "file_extension": ".py",
   "mimetype": "text/x-python",
   "name": "python",
   "nbconvert_exporter": "python",
   "pygments_lexer": "ipython3",
   "version": "3.11.11"
  }
 },
 "nbformat": 4,
 "nbformat_minor": 2
}
